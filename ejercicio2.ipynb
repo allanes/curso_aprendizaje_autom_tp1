{
 "cells": [
  {
   "cell_type": "markdown",
   "metadata": {},
   "source": [
    "# Ejercicio 2"
   ]
  },
  {
   "cell_type": "markdown",
   "metadata": {},
   "source": [
    "## Adquisición de datos"
   ]
  },
  {
   "cell_type": "code",
   "execution_count": 57,
   "metadata": {},
   "outputs": [
    {
     "name": "stdout",
     "output_type": "stream",
     "text": [
      "  V1 V2 V3 V4 V5 V6 V7 V8 V9       V10\n",
      "0  x  x  x  x  o  o  x  o  o  positive\n",
      "1  x  x  x  x  o  o  o  x  o  positive\n",
      "2  x  x  x  x  o  o  o  o  x  positive\n",
      "3  x  x  x  x  o  o  o  b  b  positive\n",
      "4  x  x  x  x  o  o  b  o  b  positive\n"
     ]
    }
   ],
   "source": [
    "import pandas as pd\n",
    "\n",
    "dataset = pd.read_csv('data/ta-te-ti.csv')\n",
    "\n",
    "print(dataset.head())"
   ]
  },
  {
   "cell_type": "markdown",
   "metadata": {},
   "source": [
    "## Pre-procesamiento"
   ]
  },
  {
   "cell_type": "markdown",
   "metadata": {},
   "source": [
    "### Exploratory Data Analysis"
   ]
  },
  {
   "cell_type": "code",
   "execution_count": 58,
   "metadata": {},
   "outputs": [
    {
     "name": "stdout",
     "output_type": "stream",
     "text": [
      "<class 'pandas.core.frame.DataFrame'>\n",
      "RangeIndex: 958 entries, 0 to 957\n",
      "Data columns (total 10 columns):\n",
      " #   Column  Non-Null Count  Dtype \n",
      "---  ------  --------------  ----- \n",
      " 0   V1      958 non-null    object\n",
      " 1   V2      958 non-null    object\n",
      " 2   V3      958 non-null    object\n",
      " 3   V4      958 non-null    object\n",
      " 4   V5      958 non-null    object\n",
      " 5   V6      958 non-null    object\n",
      " 6   V7      958 non-null    object\n",
      " 7   V8      958 non-null    object\n",
      " 8   V9      958 non-null    object\n",
      " 9   V10     958 non-null    object\n",
      "dtypes: object(10)\n",
      "memory usage: 75.0+ KB\n"
     ]
    }
   ],
   "source": [
    "# Busco ceros y faltantes\n",
    "dataset.info()\n",
    "# dataset.describe()"
   ]
  },
  {
   "cell_type": "markdown",
   "metadata": {},
   "source": [
    "Las columnas V1 a V9 son del tipo String y son datos categóricos. 'x' y 'o' los jugadores, 'b' los casilleros en blanco.\n",
    "\n",
    "La columna V10, que representa el resultado del juego, también es de tipo String toma los valores categoricos 'positive' y 'negative'\n",
    "\n",
    "Se puede ver que no hay valores faltantes ni ceros, por lo que podemos pasar a la etapa de transformación"
   ]
  },
  {
   "cell_type": "markdown",
   "metadata": {},
   "source": [
    "### Transformación de datos. Categorización"
   ]
  },
  {
   "cell_type": "code",
   "execution_count": 59,
   "metadata": {},
   "outputs": [
    {
     "data": {
      "text/html": [
       "<div>\n",
       "<style scoped>\n",
       "    .dataframe tbody tr th:only-of-type {\n",
       "        vertical-align: middle;\n",
       "    }\n",
       "\n",
       "    .dataframe tbody tr th {\n",
       "        vertical-align: top;\n",
       "    }\n",
       "\n",
       "    .dataframe thead th {\n",
       "        text-align: right;\n",
       "    }\n",
       "</style>\n",
       "<table border=\"1\" class=\"dataframe\">\n",
       "  <thead>\n",
       "    <tr style=\"text-align: right;\">\n",
       "      <th></th>\n",
       "      <th>V1</th>\n",
       "      <th>V2</th>\n",
       "      <th>V3</th>\n",
       "      <th>V4</th>\n",
       "      <th>V5</th>\n",
       "      <th>V6</th>\n",
       "      <th>V7</th>\n",
       "      <th>V8</th>\n",
       "      <th>V9</th>\n",
       "    </tr>\n",
       "  </thead>\n",
       "  <tbody>\n",
       "    <tr>\n",
       "      <th>0</th>\n",
       "      <td>1</td>\n",
       "      <td>1</td>\n",
       "      <td>1</td>\n",
       "      <td>1</td>\n",
       "      <td>2</td>\n",
       "      <td>2</td>\n",
       "      <td>1</td>\n",
       "      <td>2</td>\n",
       "      <td>2</td>\n",
       "    </tr>\n",
       "    <tr>\n",
       "      <th>1</th>\n",
       "      <td>1</td>\n",
       "      <td>1</td>\n",
       "      <td>1</td>\n",
       "      <td>1</td>\n",
       "      <td>2</td>\n",
       "      <td>2</td>\n",
       "      <td>2</td>\n",
       "      <td>1</td>\n",
       "      <td>2</td>\n",
       "    </tr>\n",
       "    <tr>\n",
       "      <th>2</th>\n",
       "      <td>1</td>\n",
       "      <td>1</td>\n",
       "      <td>1</td>\n",
       "      <td>1</td>\n",
       "      <td>2</td>\n",
       "      <td>2</td>\n",
       "      <td>2</td>\n",
       "      <td>2</td>\n",
       "      <td>1</td>\n",
       "    </tr>\n",
       "    <tr>\n",
       "      <th>3</th>\n",
       "      <td>1</td>\n",
       "      <td>1</td>\n",
       "      <td>1</td>\n",
       "      <td>1</td>\n",
       "      <td>2</td>\n",
       "      <td>2</td>\n",
       "      <td>2</td>\n",
       "      <td>0</td>\n",
       "      <td>0</td>\n",
       "    </tr>\n",
       "    <tr>\n",
       "      <th>4</th>\n",
       "      <td>1</td>\n",
       "      <td>1</td>\n",
       "      <td>1</td>\n",
       "      <td>1</td>\n",
       "      <td>2</td>\n",
       "      <td>2</td>\n",
       "      <td>0</td>\n",
       "      <td>2</td>\n",
       "      <td>0</td>\n",
       "    </tr>\n",
       "    <tr>\n",
       "      <th>...</th>\n",
       "      <td>...</td>\n",
       "      <td>...</td>\n",
       "      <td>...</td>\n",
       "      <td>...</td>\n",
       "      <td>...</td>\n",
       "      <td>...</td>\n",
       "      <td>...</td>\n",
       "      <td>...</td>\n",
       "      <td>...</td>\n",
       "    </tr>\n",
       "    <tr>\n",
       "      <th>953</th>\n",
       "      <td>2</td>\n",
       "      <td>1</td>\n",
       "      <td>1</td>\n",
       "      <td>1</td>\n",
       "      <td>2</td>\n",
       "      <td>2</td>\n",
       "      <td>2</td>\n",
       "      <td>1</td>\n",
       "      <td>1</td>\n",
       "    </tr>\n",
       "    <tr>\n",
       "      <th>954</th>\n",
       "      <td>2</td>\n",
       "      <td>1</td>\n",
       "      <td>2</td>\n",
       "      <td>1</td>\n",
       "      <td>1</td>\n",
       "      <td>2</td>\n",
       "      <td>1</td>\n",
       "      <td>2</td>\n",
       "      <td>1</td>\n",
       "    </tr>\n",
       "    <tr>\n",
       "      <th>955</th>\n",
       "      <td>2</td>\n",
       "      <td>1</td>\n",
       "      <td>2</td>\n",
       "      <td>1</td>\n",
       "      <td>2</td>\n",
       "      <td>1</td>\n",
       "      <td>1</td>\n",
       "      <td>2</td>\n",
       "      <td>1</td>\n",
       "    </tr>\n",
       "    <tr>\n",
       "      <th>956</th>\n",
       "      <td>2</td>\n",
       "      <td>1</td>\n",
       "      <td>2</td>\n",
       "      <td>2</td>\n",
       "      <td>1</td>\n",
       "      <td>1</td>\n",
       "      <td>1</td>\n",
       "      <td>2</td>\n",
       "      <td>1</td>\n",
       "    </tr>\n",
       "    <tr>\n",
       "      <th>957</th>\n",
       "      <td>2</td>\n",
       "      <td>2</td>\n",
       "      <td>1</td>\n",
       "      <td>1</td>\n",
       "      <td>1</td>\n",
       "      <td>2</td>\n",
       "      <td>2</td>\n",
       "      <td>1</td>\n",
       "      <td>1</td>\n",
       "    </tr>\n",
       "  </tbody>\n",
       "</table>\n",
       "<p>958 rows × 9 columns</p>\n",
       "</div>"
      ],
      "text/plain": [
       "     V1  V2  V3  V4  V5  V6  V7  V8  V9\n",
       "0     1   1   1   1   2   2   1   2   2\n",
       "1     1   1   1   1   2   2   2   1   2\n",
       "2     1   1   1   1   2   2   2   2   1\n",
       "3     1   1   1   1   2   2   2   0   0\n",
       "4     1   1   1   1   2   2   0   2   0\n",
       "..   ..  ..  ..  ..  ..  ..  ..  ..  ..\n",
       "953   2   1   1   1   2   2   2   1   1\n",
       "954   2   1   2   1   1   2   1   2   1\n",
       "955   2   1   2   1   2   1   1   2   1\n",
       "956   2   1   2   2   1   1   1   2   1\n",
       "957   2   2   1   1   1   2   2   1   1\n",
       "\n",
       "[958 rows x 9 columns]"
      ]
     },
     "execution_count": 59,
     "metadata": {},
     "output_type": "execute_result"
    }
   ],
   "source": [
    "# dataset.describe()\n",
    "# dataset_transformado['Outcome'] = dataset['V10'].apply(lambda x: True if x=='positive' else False)\n",
    "mapeo_resultados = {'positive': True, 'negative': False}\n",
    "ds_resultados = dataset['V10'].map(mapeo_resultados)\n",
    "dataset = dataset.drop(columns=['V10'])\n",
    "\n",
    "dataset_transformado = pd.DataFrame()\n",
    "mapeo_categorias = {'b':0, 'x':1, 'o':2}\n",
    "dataset_transformado = dataset.applymap(lambda x: mapeo_categorias[x])\n",
    "dataset_transformado"
   ]
  },
  {
   "cell_type": "code",
   "execution_count": 60,
   "metadata": {},
   "outputs": [
    {
     "data": {
      "text/html": [
       "<div>\n",
       "<style scoped>\n",
       "    .dataframe tbody tr th:only-of-type {\n",
       "        vertical-align: middle;\n",
       "    }\n",
       "\n",
       "    .dataframe tbody tr th {\n",
       "        vertical-align: top;\n",
       "    }\n",
       "\n",
       "    .dataframe thead th {\n",
       "        text-align: right;\n",
       "    }\n",
       "</style>\n",
       "<table border=\"1\" class=\"dataframe\">\n",
       "  <thead>\n",
       "    <tr style=\"text-align: right;\">\n",
       "      <th></th>\n",
       "      <th>V1</th>\n",
       "      <th>V2</th>\n",
       "      <th>V3</th>\n",
       "      <th>V4</th>\n",
       "      <th>V5</th>\n",
       "      <th>V6</th>\n",
       "      <th>V7</th>\n",
       "      <th>V8</th>\n",
       "      <th>V9</th>\n",
       "      <th>resultados</th>\n",
       "      <th>movimientos</th>\n",
       "    </tr>\n",
       "  </thead>\n",
       "  <tbody>\n",
       "    <tr>\n",
       "      <th>0</th>\n",
       "      <td>1</td>\n",
       "      <td>2</td>\n",
       "      <td>0</td>\n",
       "      <td>1</td>\n",
       "      <td>0</td>\n",
       "      <td>0</td>\n",
       "      <td>1</td>\n",
       "      <td>2</td>\n",
       "      <td>0</td>\n",
       "      <td>True</td>\n",
       "      <td>5</td>\n",
       "    </tr>\n",
       "    <tr>\n",
       "      <th>1</th>\n",
       "      <td>0</td>\n",
       "      <td>2</td>\n",
       "      <td>0</td>\n",
       "      <td>0</td>\n",
       "      <td>2</td>\n",
       "      <td>0</td>\n",
       "      <td>1</td>\n",
       "      <td>1</td>\n",
       "      <td>1</td>\n",
       "      <td>True</td>\n",
       "      <td>5</td>\n",
       "    </tr>\n",
       "    <tr>\n",
       "      <th>2</th>\n",
       "      <td>0</td>\n",
       "      <td>2</td>\n",
       "      <td>0</td>\n",
       "      <td>2</td>\n",
       "      <td>0</td>\n",
       "      <td>0</td>\n",
       "      <td>1</td>\n",
       "      <td>1</td>\n",
       "      <td>1</td>\n",
       "      <td>True</td>\n",
       "      <td>5</td>\n",
       "    </tr>\n",
       "    <tr>\n",
       "      <th>3</th>\n",
       "      <td>1</td>\n",
       "      <td>2</td>\n",
       "      <td>2</td>\n",
       "      <td>0</td>\n",
       "      <td>1</td>\n",
       "      <td>0</td>\n",
       "      <td>0</td>\n",
       "      <td>0</td>\n",
       "      <td>1</td>\n",
       "      <td>True</td>\n",
       "      <td>5</td>\n",
       "    </tr>\n",
       "    <tr>\n",
       "      <th>4</th>\n",
       "      <td>0</td>\n",
       "      <td>2</td>\n",
       "      <td>0</td>\n",
       "      <td>1</td>\n",
       "      <td>1</td>\n",
       "      <td>1</td>\n",
       "      <td>0</td>\n",
       "      <td>0</td>\n",
       "      <td>2</td>\n",
       "      <td>True</td>\n",
       "      <td>5</td>\n",
       "    </tr>\n",
       "    <tr>\n",
       "      <th>...</th>\n",
       "      <td>...</td>\n",
       "      <td>...</td>\n",
       "      <td>...</td>\n",
       "      <td>...</td>\n",
       "      <td>...</td>\n",
       "      <td>...</td>\n",
       "      <td>...</td>\n",
       "      <td>...</td>\n",
       "      <td>...</td>\n",
       "      <td>...</td>\n",
       "      <td>...</td>\n",
       "    </tr>\n",
       "    <tr>\n",
       "      <th>953</th>\n",
       "      <td>1</td>\n",
       "      <td>2</td>\n",
       "      <td>2</td>\n",
       "      <td>2</td>\n",
       "      <td>2</td>\n",
       "      <td>1</td>\n",
       "      <td>1</td>\n",
       "      <td>1</td>\n",
       "      <td>1</td>\n",
       "      <td>True</td>\n",
       "      <td>9</td>\n",
       "    </tr>\n",
       "    <tr>\n",
       "      <th>954</th>\n",
       "      <td>1</td>\n",
       "      <td>2</td>\n",
       "      <td>2</td>\n",
       "      <td>2</td>\n",
       "      <td>1</td>\n",
       "      <td>2</td>\n",
       "      <td>1</td>\n",
       "      <td>1</td>\n",
       "      <td>1</td>\n",
       "      <td>True</td>\n",
       "      <td>9</td>\n",
       "    </tr>\n",
       "    <tr>\n",
       "      <th>955</th>\n",
       "      <td>1</td>\n",
       "      <td>2</td>\n",
       "      <td>2</td>\n",
       "      <td>2</td>\n",
       "      <td>1</td>\n",
       "      <td>1</td>\n",
       "      <td>2</td>\n",
       "      <td>1</td>\n",
       "      <td>1</td>\n",
       "      <td>True</td>\n",
       "      <td>9</td>\n",
       "    </tr>\n",
       "    <tr>\n",
       "      <th>956</th>\n",
       "      <td>2</td>\n",
       "      <td>1</td>\n",
       "      <td>2</td>\n",
       "      <td>1</td>\n",
       "      <td>1</td>\n",
       "      <td>2</td>\n",
       "      <td>2</td>\n",
       "      <td>1</td>\n",
       "      <td>1</td>\n",
       "      <td>True</td>\n",
       "      <td>9</td>\n",
       "    </tr>\n",
       "    <tr>\n",
       "      <th>957</th>\n",
       "      <td>2</td>\n",
       "      <td>2</td>\n",
       "      <td>1</td>\n",
       "      <td>1</td>\n",
       "      <td>1</td>\n",
       "      <td>2</td>\n",
       "      <td>2</td>\n",
       "      <td>1</td>\n",
       "      <td>1</td>\n",
       "      <td>False</td>\n",
       "      <td>9</td>\n",
       "    </tr>\n",
       "  </tbody>\n",
       "</table>\n",
       "<p>958 rows × 11 columns</p>\n",
       "</div>"
      ],
      "text/plain": [
       "     V1  V2  V3  V4  V5  V6  V7  V8  V9  resultados  movimientos\n",
       "0     1   2   0   1   0   0   1   2   0        True            5\n",
       "1     0   2   0   0   2   0   1   1   1        True            5\n",
       "2     0   2   0   2   0   0   1   1   1        True            5\n",
       "3     1   2   2   0   1   0   0   0   1        True            5\n",
       "4     0   2   0   1   1   1   0   0   2        True            5\n",
       "..   ..  ..  ..  ..  ..  ..  ..  ..  ..         ...          ...\n",
       "953   1   2   2   2   2   1   1   1   1        True            9\n",
       "954   1   2   2   2   1   2   1   1   1        True            9\n",
       "955   1   2   2   2   1   1   2   1   1        True            9\n",
       "956   2   1   2   1   1   2   2   1   1        True            9\n",
       "957   2   2   1   1   1   2   2   1   1       False            9\n",
       "\n",
       "[958 rows x 11 columns]"
      ]
     },
     "execution_count": 60,
     "metadata": {},
     "output_type": "execute_result"
    }
   ],
   "source": [
    "import numpy as np\n",
    "\n",
    "# Agrego la cantidad de movimientos al df\n",
    "\n",
    "def calcular_movimientos(fila):\n",
    "    casilleros = fila[[f'V{x}' for x in range(1,10)]].value_counts()\n",
    "    movimientos = casilleros[1] + casilleros[2]\n",
    "    return movimientos\n",
    "    \n",
    "ds_cuentas = dataset_transformado.copy()\n",
    "ds_cuentas['resultados'] = ds_resultados\n",
    "ds_cuentas['movimientos'] = ds_cuentas.apply(calcular_movimientos, axis=1)\n",
    "ds_cuentas = ds_cuentas.sort_values(by=['movimientos'], ignore_index=True)#.reset_index().drop(columns='index')\n",
    "ds_cuentas\n"
   ]
  },
  {
   "cell_type": "code",
   "execution_count": 61,
   "metadata": {},
   "outputs": [
    {
     "name": "stdout",
     "output_type": "stream",
     "text": [
      "para 5 jugadas hay 120 resultados positivos y 0 negativos\n",
      "para 6 jugadas hay 0 resultados positivos y 148 negativos\n",
      "para 7 jugadas hay 444 resultados positivos y 0 negativos\n",
      "para 8 jugadas hay 0 resultados positivos y 168 negativos\n",
      "para 9 jugadas hay 62 resultados positivos y 16 negativos\n"
     ]
    }
   ],
   "source": [
    "# Busco la distribucion por movimientos\n",
    "\n",
    "for mov in ds_cuentas.movimientos.unique():\n",
    "    cuenta_resultados = ds_cuentas[ds_cuentas.movimientos == mov]['resultados'].value_counts()\n",
    "    resultados_positivos = cuenta_resultados[True] if True in cuenta_resultados else 0\n",
    "    resultados_negativos = cuenta_resultados[False] if False in cuenta_resultados else 0\n",
    "    print(f'para {mov} jugadas hay {resultados_positivos} resultados positivos y {resultados_negativos} negativos')"
   ]
  },
  {
   "cell_type": "code",
   "execution_count": 62,
   "metadata": {},
   "outputs": [
    {
     "name": "stdout",
     "output_type": "stream",
     "text": [
      "120 tableros con 5 movimientos jugados\n",
      "148 tableros con 6 movimientos jugados\n",
      "444 tableros con 7 movimientos jugados\n",
      "168 tableros con 8 movimientos jugados\n",
      "78 tableros con 9 movimientos jugados\n"
     ]
    },
    {
     "data": {
      "text/plain": [
       "True     626\n",
       "False    332\n",
       "Name: V10, dtype: int64"
      ]
     },
     "execution_count": 62,
     "metadata": {},
     "output_type": "execute_result"
    }
   ],
   "source": [
    "# ds_cuentas[ds_cuentas.movimientos == 5]['movimientos'].count()\n",
    "for valor_unico in ds_cuentas.movimientos.unique():\n",
    "    ds_aux = ds_cuentas[ds_cuentas.movimientos == valor_unico]\n",
    "    # cant_tableros = ds_aux['movimientos'].count()\n",
    "    cant_tableros = ds_aux['movimientos'].value_counts().sum()\n",
    "    print(f'{cant_tableros} tableros con {valor_unico} movimientos jugados')\n",
    "    \n",
    "ds_resultados.value_counts()"
   ]
  },
  {
   "cell_type": "markdown",
   "metadata": {},
   "source": [
    "## Modelado y evaluación\n"
   ]
  },
  {
   "cell_type": "markdown",
   "metadata": {},
   "source": [
    "### Splitting de datos"
   ]
  },
  {
   "cell_type": "code",
   "execution_count": 69,
   "metadata": {},
   "outputs": [],
   "source": [
    "from sklearn import model_selection\n",
    "TEST_SPLIT_01 = 0.3\n",
    "TEST_SPLIT_02 = 0.1\n",
    "\n",
    "X_train, X_test, Y_train, Y_test = model_selection.train_test_split(dataset_transformado,\n",
    "                                                                    ds_resultados,\n",
    "                                                                    test_size=TEST_SPLIT_01)"
   ]
  },
  {
   "cell_type": "markdown",
   "metadata": {},
   "source": [
    "### Configuración y entrenamiento del modelo"
   ]
  },
  {
   "cell_type": "code",
   "execution_count": 70,
   "metadata": {},
   "outputs": [
    {
     "data": {
      "text/plain": [
       "DecisionTreeClassifier(criterion='entropy', max_depth=4)"
      ]
     },
     "execution_count": 70,
     "metadata": {},
     "output_type": "execute_result"
    }
   ],
   "source": [
    "from sklearn import tree\n",
    "\n",
    "arbol = tree.DecisionTreeClassifier(criterion='entropy',\n",
    "                                    max_depth=4)\n",
    "\n",
    "arbol.fit(X=X_train,y=Y_train)"
   ]
  },
  {
   "cell_type": "markdown",
   "metadata": {},
   "source": [
    "### Evaluación del modelo"
   ]
  },
  {
   "cell_type": "code",
   "execution_count": 71,
   "metadata": {},
   "outputs": [],
   "source": [
    "from sklearn.metrics import confusion_matrix\n",
    "\n",
    "predicciones = arbol.predict(X_test)\n",
    "mc = confusion_matrix(y_true=Y_test, y_pred=predicciones)"
   ]
  },
  {
   "cell_type": "code",
   "execution_count": 72,
   "metadata": {},
   "outputs": [
    {
     "data": {
      "text/plain": [
       "<sklearn.metrics._plot.confusion_matrix.ConfusionMatrixDisplay at 0x27dabbe93d0>"
      ]
     },
     "execution_count": 72,
     "metadata": {},
     "output_type": "execute_result"
    },
    {
     "data": {
      "image/png": "[encoded data removed]",
      "text/plain": [
       "<Figure size 432x288 with 2 Axes>"
      ]
     },
     "metadata": {
      "needs_background": "light"
     },
     "output_type": "display_data"
    }
   ],
   "source": [
    "from sklearn.metrics import ConfusionMatrixDisplay\n",
    "from matplotlib import pyplot as plt\n",
    "\n",
    "widget_matriz_confusion_segun_media = ConfusionMatrixDisplay(\n",
    "    confusion_matrix=mc,\n",
    "    display_labels=arbol.classes_\n",
    "    )\n",
    "# widget_matriz_confusion_segun_media.plot(ax=plt.subplot(121), colorbar=False)\n",
    "\n",
    "widget_matriz_confusion_segun_media.plot()\n"
   ]
  },
  {
   "cell_type": "code",
   "execution_count": 73,
   "metadata": {},
   "outputs": [
    {
     "name": "stdout",
     "output_type": "stream",
     "text": [
      "{'Predicciones correctas': 234, 'Predicciones incorrectas': 54, 'Predicciones totales': 288, 'Predicciones correctas (%)': '81.25', 'Predicciones incorrectas (%)': '18.75'}\n"
     ]
    }
   ],
   "source": [
    "matrices_confusion = [mc]\n",
    "parametros_mc = {}\n",
    "\n",
    "for index, matriz in enumerate(matrices_confusion):\n",
    "    params = {}\n",
    "    params['Predicciones correctas'] = matriz[0][0] + matriz [1][1]\n",
    "    params['Predicciones incorrectas'] = matriz[0][1] + matriz [1][0]\n",
    "    params['Predicciones totales'] = params['Predicciones correctas'] + params['Predicciones incorrectas']\n",
    "    params['Predicciones correctas (%)'] = f\"{100 * (params['Predicciones correctas'] / params['Predicciones totales']):.2f}\"\n",
    "    params['Predicciones incorrectas (%)'] = f\"{100 * (params['Predicciones incorrectas'] / params['Predicciones totales']):.2f}\"\n",
    "    \n",
    "    parametros_mc[index] = params\n",
    "    \n",
    "print(parametros_mc[0])"
   ]
  },
  {
   "cell_type": "code",
   "execution_count": 68,
   "metadata": {},
   "outputs": [
    {
     "data": {
      "image/svg+xml": "<?xml version=\"1.0\" encoding=\"UTF-8\" standalone=\"no\"?>\n<!DOCTYPE svg PUBLIC \"-//W3C//DTD SVG 1.1//EN\"\n \"http://www.w3.org/Graphics/SVG/1.1/DTD/svg11.dtd\">\n<!-- Generated by graphviz version 3.0.0 (20220226.1711)\n -->\n<!-- Title: Tree Pages: 1 -->\n<svg width=\"1568pt\" height=\"477pt\"\n viewBox=\"0.00 0.00 1568.00 477.00\" xmlns=\"http://www.w3.org/2000/svg\" xmlns:xlink=\"http://www.w3.org/1999/xlink\">\n<g id=\"graph0\" class=\"graph\" transform=\"scale(1 1) rotate(0) translate(4 473)\">\n<title>Tree</title>\n<polygon fill=\"white\" stroke=\"transparent\" points=\"-4,4 -4,-473 1564,-473 1564,4 -4,4\"/>\n<!-- 0 -->\n<g id=\"node1\" class=\"node\">\n<title>0</title>\n<polygon fill=\"none\" stroke=\"black\" points=\"845,-469 715,-469 715,-401 845,-401 845,-469\"/>\n<text text-anchor=\"middle\" x=\"780\" y=\"-453.8\" font-family=\"Helvetica,sans-Serif\" font-size=\"14.00\">V5 &lt;= 1.5</text>\n<text text-anchor=\"middle\" x=\"780\" y=\"-438.8\" font-family=\"Helvetica,sans-Serif\" font-size=\"14.00\">entropy = 0.929</text>\n<text text-anchor=\"middle\" x=\"780\" y=\"-423.8\" font-family=\"Helvetica,sans-Serif\" font-size=\"14.00\">samples = 862</text>\n<text text-anchor=\"middle\" x=\"780\" y=\"-408.8\" font-family=\"Helvetica,sans-Serif\" font-size=\"14.00\">value = [297, 565]</text>\n</g>\n<!-- 1 -->\n<g id=\"node2\" class=\"node\">\n<title>1</title>\n<polygon fill=\"none\" stroke=\"black\" points=\"582,-365 452,-365 452,-297 582,-297 582,-365\"/>\n<text text-anchor=\"middle\" x=\"517\" y=\"-349.8\" font-family=\"Helvetica,sans-Serif\" font-size=\"14.00\">V1 &lt;= 1.5</text>\n<text text-anchor=\"middle\" x=\"517\" y=\"-334.8\" font-family=\"Helvetica,sans-Serif\" font-size=\"14.00\">entropy = 0.776</text>\n<text text-anchor=\"middle\" x=\"517\" y=\"-319.8\" font-family=\"Helvetica,sans-Serif\" font-size=\"14.00\">samples = 559</text>\n<text text-anchor=\"middle\" x=\"517\" y=\"-304.8\" font-family=\"Helvetica,sans-Serif\" font-size=\"14.00\">value = [128, 431]</text>\n</g>\n<!-- 0&#45;&gt;1 -->\n<g id=\"edge1\" class=\"edge\">\n<title>0&#45;&gt;1</title>\n<path fill=\"none\" stroke=\"black\" d=\"M714.99,-408.79C677.69,-394.32 630.7,-376.1 591.86,-361.03\"/>\n<polygon fill=\"black\" stroke=\"black\" points=\"592.76,-357.63 582.17,-357.28 590.23,-364.16 592.76,-357.63\"/>\n<text text-anchor=\"middle\" x=\"592.26\" y=\"-376.45\" font-family=\"Helvetica,sans-Serif\" font-size=\"14.00\">True</text>\n</g>\n<!-- 14 -->\n<g id=\"node15\" class=\"node\">\n<title>14</title>\n<polygon fill=\"none\" stroke=\"black\" points=\"1108,-365 978,-365 978,-297 1108,-297 1108,-365\"/>\n<text text-anchor=\"middle\" x=\"1043\" y=\"-349.8\" font-family=\"Helvetica,sans-Serif\" font-size=\"14.00\">V3 &lt;= 1.5</text>\n<text text-anchor=\"middle\" x=\"1043\" y=\"-334.8\" font-family=\"Helvetica,sans-Serif\" font-size=\"14.00\">entropy = 0.99</text>\n<text text-anchor=\"middle\" x=\"1043\" y=\"-319.8\" font-family=\"Helvetica,sans-Serif\" font-size=\"14.00\">samples = 303</text>\n<text text-anchor=\"middle\" x=\"1043\" y=\"-304.8\" font-family=\"Helvetica,sans-Serif\" font-size=\"14.00\">value = [169, 134]</text>\n</g>\n<!-- 0&#45;&gt;14 -->\n<g id=\"edge14\" class=\"edge\">\n<title>0&#45;&gt;14</title>\n<path fill=\"none\" stroke=\"black\" d=\"M845.01,-408.79C882.31,-394.32 929.3,-376.1 968.14,-361.03\"/>\n<polygon fill=\"black\" stroke=\"black\" points=\"969.77,-364.16 977.83,-357.28 967.24,-357.63 969.77,-364.16\"/>\n<text text-anchor=\"middle\" x=\"967.74\" y=\"-376.45\" font-family=\"Helvetica,sans-Serif\" font-size=\"14.00\">False</text>\n</g>\n<!-- 2 -->\n<g id=\"node3\" class=\"node\">\n<title>2</title>\n<polygon fill=\"none\" stroke=\"black\" points=\"253,-261 131,-261 131,-193 253,-193 253,-261\"/>\n<text text-anchor=\"middle\" x=\"192\" y=\"-245.8\" font-family=\"Helvetica,sans-Serif\" font-size=\"14.00\">V9 &lt;= 1.5</text>\n<text text-anchor=\"middle\" x=\"192\" y=\"-230.8\" font-family=\"Helvetica,sans-Serif\" font-size=\"14.00\">entropy = 0.641</text>\n<text text-anchor=\"middle\" x=\"192\" y=\"-215.8\" font-family=\"Helvetica,sans-Serif\" font-size=\"14.00\">samples = 344</text>\n<text text-anchor=\"middle\" x=\"192\" y=\"-200.8\" font-family=\"Helvetica,sans-Serif\" font-size=\"14.00\">value = [56, 288]</text>\n</g>\n<!-- 1&#45;&gt;2 -->\n<g id=\"edge2\" class=\"edge\">\n<title>1&#45;&gt;2</title>\n<path fill=\"none\" stroke=\"black\" d=\"M451.62,-309.48C396.98,-292.33 319.19,-267.92 263.02,-250.29\"/>\n<polygon fill=\"black\" stroke=\"black\" points=\"263.74,-246.85 253.15,-247.19 261.64,-253.53 263.74,-246.85\"/>\n</g>\n<!-- 7 -->\n<g id=\"node8\" class=\"node\">\n<title>7</title>\n<polygon fill=\"none\" stroke=\"black\" points=\"578,-261 456,-261 456,-193 578,-193 578,-261\"/>\n<text text-anchor=\"middle\" x=\"517\" y=\"-245.8\" font-family=\"Helvetica,sans-Serif\" font-size=\"14.00\">V3 &lt;= 1.5</text>\n<text text-anchor=\"middle\" x=\"517\" y=\"-230.8\" font-family=\"Helvetica,sans-Serif\" font-size=\"14.00\">entropy = 0.92</text>\n<text text-anchor=\"middle\" x=\"517\" y=\"-215.8\" font-family=\"Helvetica,sans-Serif\" font-size=\"14.00\">samples = 215</text>\n<text text-anchor=\"middle\" x=\"517\" y=\"-200.8\" font-family=\"Helvetica,sans-Serif\" font-size=\"14.00\">value = [72, 143]</text>\n</g>\n<!-- 1&#45;&gt;7 -->\n<g id=\"edge7\" class=\"edge\">\n<title>1&#45;&gt;7</title>\n<path fill=\"none\" stroke=\"black\" d=\"M517,-296.88C517,-288.78 517,-279.98 517,-271.47\"/>\n<polygon fill=\"black\" stroke=\"black\" points=\"520.5,-271.3 517,-261.3 513.5,-271.3 520.5,-271.3\"/>\n</g>\n<!-- 3 -->\n<g id=\"node4\" class=\"node\">\n<title>3</title>\n<polygon fill=\"none\" stroke=\"black\" points=\"115.5,-149.5 2.5,-149.5 2.5,-96.5 115.5,-96.5 115.5,-149.5\"/>\n<text text-anchor=\"middle\" x=\"59\" y=\"-134.3\" font-family=\"Helvetica,sans-Serif\" font-size=\"14.00\">entropy = 0.0</text>\n<text text-anchor=\"middle\" x=\"59\" y=\"-119.3\" font-family=\"Helvetica,sans-Serif\" font-size=\"14.00\">samples = 193</text>\n<text text-anchor=\"middle\" x=\"59\" y=\"-104.3\" font-family=\"Helvetica,sans-Serif\" font-size=\"14.00\">value = [0, 193]</text>\n</g>\n<!-- 2&#45;&gt;3 -->\n<g id=\"edge3\" class=\"edge\">\n<title>2&#45;&gt;3</title>\n<path fill=\"none\" stroke=\"black\" d=\"M148.82,-192.88C133.33,-181.01 115.91,-167.65 100.56,-155.88\"/>\n<polygon fill=\"black\" stroke=\"black\" points=\"102.34,-152.83 92.28,-149.52 98.08,-158.38 102.34,-152.83\"/>\n</g>\n<!-- 4 -->\n<g id=\"node5\" class=\"node\">\n<title>4</title>\n<polygon fill=\"none\" stroke=\"black\" points=\"250,-157 134,-157 134,-89 250,-89 250,-157\"/>\n<text text-anchor=\"middle\" x=\"192\" y=\"-141.8\" font-family=\"Helvetica,sans-Serif\" font-size=\"14.00\">V3 &lt;= 1.5</text>\n<text text-anchor=\"middle\" x=\"192\" y=\"-126.8\" font-family=\"Helvetica,sans-Serif\" font-size=\"14.00\">entropy = 0.951</text>\n<text text-anchor=\"middle\" x=\"192\" y=\"-111.8\" font-family=\"Helvetica,sans-Serif\" font-size=\"14.00\">samples = 151</text>\n<text text-anchor=\"middle\" x=\"192\" y=\"-96.8\" font-family=\"Helvetica,sans-Serif\" font-size=\"14.00\">value = [56, 95]</text>\n</g>\n<!-- 2&#45;&gt;4 -->\n<g id=\"edge4\" class=\"edge\">\n<title>2&#45;&gt;4</title>\n<path fill=\"none\" stroke=\"black\" d=\"M192,-192.88C192,-184.78 192,-175.98 192,-167.47\"/>\n<polygon fill=\"black\" stroke=\"black\" points=\"195.5,-167.3 192,-157.3 188.5,-167.3 195.5,-167.3\"/>\n</g>\n<!-- 5 -->\n<g id=\"node6\" class=\"node\">\n<title>5</title>\n<polygon fill=\"none\" stroke=\"black\" points=\"116,-53 0,-53 0,0 116,0 116,-53\"/>\n<text text-anchor=\"middle\" x=\"58\" y=\"-37.8\" font-family=\"Helvetica,sans-Serif\" font-size=\"14.00\">entropy = 0.827</text>\n<text text-anchor=\"middle\" x=\"58\" y=\"-22.8\" font-family=\"Helvetica,sans-Serif\" font-size=\"14.00\">samples = 96</text>\n<text text-anchor=\"middle\" x=\"58\" y=\"-7.8\" font-family=\"Helvetica,sans-Serif\" font-size=\"14.00\">value = [25, 71]</text>\n</g>\n<!-- 4&#45;&gt;5 -->\n<g id=\"edge5\" class=\"edge\">\n<title>4&#45;&gt;5</title>\n<path fill=\"none\" stroke=\"black\" d=\"M145.13,-88.95C131.38,-79.25 116.39,-68.68 102.77,-59.07\"/>\n<polygon fill=\"black\" stroke=\"black\" points=\"104.68,-56.14 94.49,-53.24 100.65,-61.86 104.68,-56.14\"/>\n</g>\n<!-- 6 -->\n<g id=\"node7\" class=\"node\">\n<title>6</title>\n<polygon fill=\"none\" stroke=\"black\" points=\"250,-53 134,-53 134,0 250,0 250,-53\"/>\n<text text-anchor=\"middle\" x=\"192\" y=\"-37.8\" font-family=\"Helvetica,sans-Serif\" font-size=\"14.00\">entropy = 0.988</text>\n<text text-anchor=\"middle\" x=\"192\" y=\"-22.8\" font-family=\"Helvetica,sans-Serif\" font-size=\"14.00\">samples = 55</text>\n<text text-anchor=\"middle\" x=\"192\" y=\"-7.8\" font-family=\"Helvetica,sans-Serif\" font-size=\"14.00\">value = [31, 24]</text>\n</g>\n<!-- 4&#45;&gt;6 -->\n<g id=\"edge6\" class=\"edge\">\n<title>4&#45;&gt;6</title>\n<path fill=\"none\" stroke=\"black\" d=\"M192,-88.95C192,-80.72 192,-71.85 192,-63.48\"/>\n<polygon fill=\"black\" stroke=\"black\" points=\"195.5,-63.24 192,-53.24 188.5,-63.24 195.5,-63.24\"/>\n</g>\n<!-- 8 -->\n<g id=\"node9\" class=\"node\">\n<title>8</title>\n<polygon fill=\"none\" stroke=\"black\" points=\"510,-157 388,-157 388,-89 510,-89 510,-157\"/>\n<text text-anchor=\"middle\" x=\"449\" y=\"-141.8\" font-family=\"Helvetica,sans-Serif\" font-size=\"14.00\">V7 &lt;= 1.5</text>\n<text text-anchor=\"middle\" x=\"449\" y=\"-126.8\" font-family=\"Helvetica,sans-Serif\" font-size=\"14.00\">entropy = 0.76</text>\n<text text-anchor=\"middle\" x=\"449\" y=\"-111.8\" font-family=\"Helvetica,sans-Serif\" font-size=\"14.00\">samples = 141</text>\n<text text-anchor=\"middle\" x=\"449\" y=\"-96.8\" font-family=\"Helvetica,sans-Serif\" font-size=\"14.00\">value = [31, 110]</text>\n</g>\n<!-- 7&#45;&gt;8 -->\n<g id=\"edge8\" class=\"edge\">\n<title>7&#45;&gt;8</title>\n<path fill=\"none\" stroke=\"black\" d=\"M494.92,-192.88C489.16,-184.24 482.88,-174.82 476.86,-165.79\"/>\n<polygon fill=\"black\" stroke=\"black\" points=\"479.66,-163.68 471.2,-157.3 473.83,-167.56 479.66,-163.68\"/>\n</g>\n<!-- 11 -->\n<g id=\"node12\" class=\"node\">\n<title>11</title>\n<polygon fill=\"none\" stroke=\"black\" points=\"644,-157 528,-157 528,-89 644,-89 644,-157\"/>\n<text text-anchor=\"middle\" x=\"586\" y=\"-141.8\" font-family=\"Helvetica,sans-Serif\" font-size=\"14.00\">V2 &lt;= 1.5</text>\n<text text-anchor=\"middle\" x=\"586\" y=\"-126.8\" font-family=\"Helvetica,sans-Serif\" font-size=\"14.00\">entropy = 0.992</text>\n<text text-anchor=\"middle\" x=\"586\" y=\"-111.8\" font-family=\"Helvetica,sans-Serif\" font-size=\"14.00\">samples = 74</text>\n<text text-anchor=\"middle\" x=\"586\" y=\"-96.8\" font-family=\"Helvetica,sans-Serif\" font-size=\"14.00\">value = [41, 33]</text>\n</g>\n<!-- 7&#45;&gt;11 -->\n<g id=\"edge11\" class=\"edge\">\n<title>7&#45;&gt;11</title>\n<path fill=\"none\" stroke=\"black\" d=\"M539.4,-192.88C545.25,-184.24 551.62,-174.82 557.73,-165.79\"/>\n<polygon fill=\"black\" stroke=\"black\" points=\"560.77,-167.54 563.47,-157.3 554.97,-163.62 560.77,-167.54\"/>\n</g>\n<!-- 9 -->\n<g id=\"node10\" class=\"node\">\n<title>9</title>\n<polygon fill=\"none\" stroke=\"black\" points=\"373.5,-53 268.5,-53 268.5,0 373.5,0 373.5,-53\"/>\n<text text-anchor=\"middle\" x=\"321\" y=\"-37.8\" font-family=\"Helvetica,sans-Serif\" font-size=\"14.00\">entropy = 0.0</text>\n<text text-anchor=\"middle\" x=\"321\" y=\"-22.8\" font-family=\"Helvetica,sans-Serif\" font-size=\"14.00\">samples = 88</text>\n<text text-anchor=\"middle\" x=\"321\" y=\"-7.8\" font-family=\"Helvetica,sans-Serif\" font-size=\"14.00\">value = [0, 88]</text>\n</g>\n<!-- 8&#45;&gt;9 -->\n<g id=\"edge9\" class=\"edge\">\n<title>8&#45;&gt;9</title>\n<path fill=\"none\" stroke=\"black\" d=\"M404.23,-88.95C391.22,-79.34 377.04,-68.87 364.13,-59.34\"/>\n<polygon fill=\"black\" stroke=\"black\" points=\"365.98,-56.36 355.86,-53.24 361.83,-61.99 365.98,-56.36\"/>\n</g>\n<!-- 10 -->\n<g id=\"node11\" class=\"node\">\n<title>10</title>\n<polygon fill=\"none\" stroke=\"black\" points=\"508,-53 392,-53 392,0 508,0 508,-53\"/>\n<text text-anchor=\"middle\" x=\"450\" y=\"-37.8\" font-family=\"Helvetica,sans-Serif\" font-size=\"14.00\">entropy = 0.979</text>\n<text text-anchor=\"middle\" x=\"450\" y=\"-22.8\" font-family=\"Helvetica,sans-Serif\" font-size=\"14.00\">samples = 53</text>\n<text text-anchor=\"middle\" x=\"450\" y=\"-7.8\" font-family=\"Helvetica,sans-Serif\" font-size=\"14.00\">value = [31, 22]</text>\n</g>\n<!-- 8&#45;&gt;10 -->\n<g id=\"edge10\" class=\"edge\">\n<title>8&#45;&gt;10</title>\n<path fill=\"none\" stroke=\"black\" d=\"M449.35,-88.95C449.44,-80.72 449.53,-71.85 449.62,-63.48\"/>\n<polygon fill=\"black\" stroke=\"black\" points=\"453.12,-63.27 449.73,-53.24 446.12,-63.2 453.12,-63.27\"/>\n</g>\n<!-- 12 -->\n<g id=\"node13\" class=\"node\">\n<title>12</title>\n<polygon fill=\"none\" stroke=\"black\" points=\"642,-53 526,-53 526,0 642,0 642,-53\"/>\n<text text-anchor=\"middle\" x=\"584\" y=\"-37.8\" font-family=\"Helvetica,sans-Serif\" font-size=\"14.00\">entropy = 0.712</text>\n<text text-anchor=\"middle\" x=\"584\" y=\"-22.8\" font-family=\"Helvetica,sans-Serif\" font-size=\"14.00\">samples = 41</text>\n<text text-anchor=\"middle\" x=\"584\" y=\"-7.8\" font-family=\"Helvetica,sans-Serif\" font-size=\"14.00\">value = [8, 33]</text>\n</g>\n<!-- 11&#45;&gt;12 -->\n<g id=\"edge12\" class=\"edge\">\n<title>11&#45;&gt;12</title>\n<path fill=\"none\" stroke=\"black\" d=\"M585.3,-88.95C585.13,-80.72 584.94,-71.85 584.76,-63.48\"/>\n<polygon fill=\"black\" stroke=\"black\" points=\"588.26,-63.16 584.54,-53.24 581.26,-63.31 588.26,-63.16\"/>\n</g>\n<!-- 13 -->\n<g id=\"node14\" class=\"node\">\n<title>13</title>\n<polygon fill=\"none\" stroke=\"black\" points=\"765.5,-53 660.5,-53 660.5,0 765.5,0 765.5,-53\"/>\n<text text-anchor=\"middle\" x=\"713\" y=\"-37.8\" font-family=\"Helvetica,sans-Serif\" font-size=\"14.00\">entropy = 0.0</text>\n<text text-anchor=\"middle\" x=\"713\" y=\"-22.8\" font-family=\"Helvetica,sans-Serif\" font-size=\"14.00\">samples = 33</text>\n<text text-anchor=\"middle\" x=\"713\" y=\"-7.8\" font-family=\"Helvetica,sans-Serif\" font-size=\"14.00\">value = [33, 0]</text>\n</g>\n<!-- 11&#45;&gt;13 -->\n<g id=\"edge13\" class=\"edge\">\n<title>11&#45;&gt;13</title>\n<path fill=\"none\" stroke=\"black\" d=\"M630.42,-88.95C643.33,-79.34 657.4,-68.87 670.2,-59.34\"/>\n<polygon fill=\"black\" stroke=\"black\" points=\"672.48,-62.01 678.41,-53.24 668.3,-56.4 672.48,-62.01\"/>\n</g>\n<!-- 15 -->\n<g id=\"node16\" class=\"node\">\n<title>15</title>\n<polygon fill=\"none\" stroke=\"black\" points=\"1108,-261 978,-261 978,-193 1108,-193 1108,-261\"/>\n<text text-anchor=\"middle\" x=\"1043\" y=\"-245.8\" font-family=\"Helvetica,sans-Serif\" font-size=\"14.00\">V1 &lt;= 1.5</text>\n<text text-anchor=\"middle\" x=\"1043\" y=\"-230.8\" font-family=\"Helvetica,sans-Serif\" font-size=\"14.00\">entropy = 1.0</text>\n<text text-anchor=\"middle\" x=\"1043\" y=\"-215.8\" font-family=\"Helvetica,sans-Serif\" font-size=\"14.00\">samples = 214</text>\n<text text-anchor=\"middle\" x=\"1043\" y=\"-200.8\" font-family=\"Helvetica,sans-Serif\" font-size=\"14.00\">value = [107, 107]</text>\n</g>\n<!-- 14&#45;&gt;15 -->\n<g id=\"edge15\" class=\"edge\">\n<title>14&#45;&gt;15</title>\n<path fill=\"none\" stroke=\"black\" d=\"M1043,-296.88C1043,-288.78 1043,-279.98 1043,-271.47\"/>\n<polygon fill=\"black\" stroke=\"black\" points=\"1046.5,-271.3 1043,-261.3 1039.5,-271.3 1046.5,-271.3\"/>\n</g>\n<!-- 22 -->\n<g id=\"node23\" class=\"node\">\n<title>22</title>\n<polygon fill=\"none\" stroke=\"black\" points=\"1426,-261 1310,-261 1310,-193 1426,-193 1426,-261\"/>\n<text text-anchor=\"middle\" x=\"1368\" y=\"-245.8\" font-family=\"Helvetica,sans-Serif\" font-size=\"14.00\">V7 &lt;= 1.5</text>\n<text text-anchor=\"middle\" x=\"1368\" y=\"-230.8\" font-family=\"Helvetica,sans-Serif\" font-size=\"14.00\">entropy = 0.885</text>\n<text text-anchor=\"middle\" x=\"1368\" y=\"-215.8\" font-family=\"Helvetica,sans-Serif\" font-size=\"14.00\">samples = 89</text>\n<text text-anchor=\"middle\" x=\"1368\" y=\"-200.8\" font-family=\"Helvetica,sans-Serif\" font-size=\"14.00\">value = [62, 27]</text>\n</g>\n<!-- 14&#45;&gt;22 -->\n<g id=\"edge22\" class=\"edge\">\n<title>14&#45;&gt;22</title>\n<path fill=\"none\" stroke=\"black\" d=\"M1108.38,-309.48C1164.1,-291.99 1243.89,-266.95 1300.27,-249.26\"/>\n<polygon fill=\"black\" stroke=\"black\" points=\"1301.32,-252.6 1309.81,-246.26 1299.22,-245.92 1301.32,-252.6\"/>\n</g>\n<!-- 16 -->\n<g id=\"node17\" class=\"node\">\n<title>16</title>\n<polygon fill=\"none\" stroke=\"black\" points=\"1032.5,-157 919.5,-157 919.5,-89 1032.5,-89 1032.5,-157\"/>\n<text text-anchor=\"middle\" x=\"976\" y=\"-141.8\" font-family=\"Helvetica,sans-Serif\" font-size=\"14.00\">V2 &lt;= 1.5</text>\n<text text-anchor=\"middle\" x=\"976\" y=\"-126.8\" font-family=\"Helvetica,sans-Serif\" font-size=\"14.00\">entropy = 0.98</text>\n<text text-anchor=\"middle\" x=\"976\" y=\"-111.8\" font-family=\"Helvetica,sans-Serif\" font-size=\"14.00\">samples = 139</text>\n<text text-anchor=\"middle\" x=\"976\" y=\"-96.8\" font-family=\"Helvetica,sans-Serif\" font-size=\"14.00\">value = [58, 81]</text>\n</g>\n<!-- 15&#45;&gt;16 -->\n<g id=\"edge16\" class=\"edge\">\n<title>15&#45;&gt;16</title>\n<path fill=\"none\" stroke=\"black\" d=\"M1021.25,-192.88C1015.57,-184.24 1009.38,-174.82 1003.45,-165.79\"/>\n<polygon fill=\"black\" stroke=\"black\" points=\"1006.29,-163.74 997.87,-157.3 1000.44,-167.58 1006.29,-163.74\"/>\n</g>\n<!-- 19 -->\n<g id=\"node20\" class=\"node\">\n<title>19</title>\n<polygon fill=\"none\" stroke=\"black\" points=\"1168,-157 1052,-157 1052,-89 1168,-89 1168,-157\"/>\n<text text-anchor=\"middle\" x=\"1110\" y=\"-141.8\" font-family=\"Helvetica,sans-Serif\" font-size=\"14.00\">V9 &lt;= 1.5</text>\n<text text-anchor=\"middle\" x=\"1110\" y=\"-126.8\" font-family=\"Helvetica,sans-Serif\" font-size=\"14.00\">entropy = 0.931</text>\n<text text-anchor=\"middle\" x=\"1110\" y=\"-111.8\" font-family=\"Helvetica,sans-Serif\" font-size=\"14.00\">samples = 75</text>\n<text text-anchor=\"middle\" x=\"1110\" y=\"-96.8\" font-family=\"Helvetica,sans-Serif\" font-size=\"14.00\">value = [49, 26]</text>\n</g>\n<!-- 15&#45;&gt;19 -->\n<g id=\"edge19\" class=\"edge\">\n<title>15&#45;&gt;19</title>\n<path fill=\"none\" stroke=\"black\" d=\"M1064.75,-192.88C1070.43,-184.24 1076.62,-174.82 1082.55,-165.79\"/>\n<polygon fill=\"black\" stroke=\"black\" points=\"1085.56,-167.58 1088.13,-157.3 1079.71,-163.74 1085.56,-167.58\"/>\n</g>\n<!-- 17 -->\n<g id=\"node18\" class=\"node\">\n<title>17</title>\n<polygon fill=\"none\" stroke=\"black\" points=\"900,-53 784,-53 784,0 900,0 900,-53\"/>\n<text text-anchor=\"middle\" x=\"842\" y=\"-37.8\" font-family=\"Helvetica,sans-Serif\" font-size=\"14.00\">entropy = 0.903</text>\n<text text-anchor=\"middle\" x=\"842\" y=\"-22.8\" font-family=\"Helvetica,sans-Serif\" font-size=\"14.00\">samples = 91</text>\n<text text-anchor=\"middle\" x=\"842\" y=\"-7.8\" font-family=\"Helvetica,sans-Serif\" font-size=\"14.00\">value = [29, 62]</text>\n</g>\n<!-- 16&#45;&gt;17 -->\n<g id=\"edge17\" class=\"edge\">\n<title>16&#45;&gt;17</title>\n<path fill=\"none\" stroke=\"black\" d=\"M929.13,-88.95C915.38,-79.25 900.39,-68.68 886.77,-59.07\"/>\n<polygon fill=\"black\" stroke=\"black\" points=\"888.68,-56.14 878.49,-53.24 884.65,-61.86 888.68,-56.14\"/>\n</g>\n<!-- 18 -->\n<g id=\"node19\" class=\"node\">\n<title>18</title>\n<polygon fill=\"none\" stroke=\"black\" points=\"1034,-53 918,-53 918,0 1034,0 1034,-53\"/>\n<text text-anchor=\"middle\" x=\"976\" y=\"-37.8\" font-family=\"Helvetica,sans-Serif\" font-size=\"14.00\">entropy = 0.968</text>\n<text text-anchor=\"middle\" x=\"976\" y=\"-22.8\" font-family=\"Helvetica,sans-Serif\" font-size=\"14.00\">samples = 48</text>\n<text text-anchor=\"middle\" x=\"976\" y=\"-7.8\" font-family=\"Helvetica,sans-Serif\" font-size=\"14.00\">value = [29, 19]</text>\n</g>\n<!-- 16&#45;&gt;18 -->\n<g id=\"edge18\" class=\"edge\">\n<title>16&#45;&gt;18</title>\n<path fill=\"none\" stroke=\"black\" d=\"M976,-88.95C976,-80.72 976,-71.85 976,-63.48\"/>\n<polygon fill=\"black\" stroke=\"black\" points=\"979.5,-63.24 976,-53.24 972.5,-63.24 979.5,-63.24\"/>\n</g>\n<!-- 20 -->\n<g id=\"node21\" class=\"node\">\n<title>20</title>\n<polygon fill=\"none\" stroke=\"black\" points=\"1168,-53 1052,-53 1052,0 1168,0 1168,-53\"/>\n<text text-anchor=\"middle\" x=\"1110\" y=\"-37.8\" font-family=\"Helvetica,sans-Serif\" font-size=\"14.00\">entropy = 0.822</text>\n<text text-anchor=\"middle\" x=\"1110\" y=\"-22.8\" font-family=\"Helvetica,sans-Serif\" font-size=\"14.00\">samples = 35</text>\n<text text-anchor=\"middle\" x=\"1110\" y=\"-7.8\" font-family=\"Helvetica,sans-Serif\" font-size=\"14.00\">value = [9, 26]</text>\n</g>\n<!-- 19&#45;&gt;20 -->\n<g id=\"edge20\" class=\"edge\">\n<title>19&#45;&gt;20</title>\n<path fill=\"none\" stroke=\"black\" d=\"M1110,-88.95C1110,-80.72 1110,-71.85 1110,-63.48\"/>\n<polygon fill=\"black\" stroke=\"black\" points=\"1113.5,-63.24 1110,-53.24 1106.5,-63.24 1113.5,-63.24\"/>\n</g>\n<!-- 21 -->\n<g id=\"node22\" class=\"node\">\n<title>21</title>\n<polygon fill=\"none\" stroke=\"black\" points=\"1291.5,-53 1186.5,-53 1186.5,0 1291.5,0 1291.5,-53\"/>\n<text text-anchor=\"middle\" x=\"1239\" y=\"-37.8\" font-family=\"Helvetica,sans-Serif\" font-size=\"14.00\">entropy = 0.0</text>\n<text text-anchor=\"middle\" x=\"1239\" y=\"-22.8\" font-family=\"Helvetica,sans-Serif\" font-size=\"14.00\">samples = 40</text>\n<text text-anchor=\"middle\" x=\"1239\" y=\"-7.8\" font-family=\"Helvetica,sans-Serif\" font-size=\"14.00\">value = [40, 0]</text>\n</g>\n<!-- 19&#45;&gt;21 -->\n<g id=\"edge21\" class=\"edge\">\n<title>19&#45;&gt;21</title>\n<path fill=\"none\" stroke=\"black\" d=\"M1155.12,-88.95C1168.23,-79.34 1182.52,-68.87 1195.53,-59.34\"/>\n<polygon fill=\"black\" stroke=\"black\" points=\"1197.87,-61.97 1203.87,-53.24 1193.73,-56.32 1197.87,-61.97\"/>\n</g>\n<!-- 23 -->\n<g id=\"node24\" class=\"node\">\n<title>23</title>\n<polygon fill=\"none\" stroke=\"black\" points=\"1426,-157 1310,-157 1310,-89 1426,-89 1426,-157\"/>\n<text text-anchor=\"middle\" x=\"1368\" y=\"-141.8\" font-family=\"Helvetica,sans-Serif\" font-size=\"14.00\">V6 &lt;= 0.5</text>\n<text text-anchor=\"middle\" x=\"1368\" y=\"-126.8\" font-family=\"Helvetica,sans-Serif\" font-size=\"14.00\">entropy = 0.971</text>\n<text text-anchor=\"middle\" x=\"1368\" y=\"-111.8\" font-family=\"Helvetica,sans-Serif\" font-size=\"14.00\">samples = 45</text>\n<text text-anchor=\"middle\" x=\"1368\" y=\"-96.8\" font-family=\"Helvetica,sans-Serif\" font-size=\"14.00\">value = [18, 27]</text>\n</g>\n<!-- 22&#45;&gt;23 -->\n<g id=\"edge23\" class=\"edge\">\n<title>22&#45;&gt;23</title>\n<path fill=\"none\" stroke=\"black\" d=\"M1368,-192.88C1368,-184.78 1368,-175.98 1368,-167.47\"/>\n<polygon fill=\"black\" stroke=\"black\" points=\"1371.5,-167.3 1368,-157.3 1364.5,-167.3 1371.5,-167.3\"/>\n</g>\n<!-- 26 -->\n<g id=\"node27\" class=\"node\">\n<title>26</title>\n<polygon fill=\"none\" stroke=\"black\" points=\"1549.5,-149.5 1444.5,-149.5 1444.5,-96.5 1549.5,-96.5 1549.5,-149.5\"/>\n<text text-anchor=\"middle\" x=\"1497\" y=\"-134.3\" font-family=\"Helvetica,sans-Serif\" font-size=\"14.00\">entropy = 0.0</text>\n<text text-anchor=\"middle\" x=\"1497\" y=\"-119.3\" font-family=\"Helvetica,sans-Serif\" font-size=\"14.00\">samples = 44</text>\n<text text-anchor=\"middle\" x=\"1497\" y=\"-104.3\" font-family=\"Helvetica,sans-Serif\" font-size=\"14.00\">value = [44, 0]</text>\n</g>\n<!-- 22&#45;&gt;26 -->\n<g id=\"edge26\" class=\"edge\">\n<title>22&#45;&gt;26</title>\n<path fill=\"none\" stroke=\"black\" d=\"M1409.88,-192.88C1424.9,-181.01 1441.8,-167.65 1456.69,-155.88\"/>\n<polygon fill=\"black\" stroke=\"black\" points=\"1459.05,-158.47 1464.72,-149.52 1454.71,-152.98 1459.05,-158.47\"/>\n</g>\n<!-- 24 -->\n<g id=\"node25\" class=\"node\">\n<title>24</title>\n<polygon fill=\"none\" stroke=\"black\" points=\"1426,-53 1310,-53 1310,0 1426,0 1426,-53\"/>\n<text text-anchor=\"middle\" x=\"1368\" y=\"-37.8\" font-family=\"Helvetica,sans-Serif\" font-size=\"14.00\">entropy = 0.414</text>\n<text text-anchor=\"middle\" x=\"1368\" y=\"-22.8\" font-family=\"Helvetica,sans-Serif\" font-size=\"14.00\">samples = 12</text>\n<text text-anchor=\"middle\" x=\"1368\" y=\"-7.8\" font-family=\"Helvetica,sans-Serif\" font-size=\"14.00\">value = [1, 11]</text>\n</g>\n<!-- 23&#45;&gt;24 -->\n<g id=\"edge24\" class=\"edge\">\n<title>23&#45;&gt;24</title>\n<path fill=\"none\" stroke=\"black\" d=\"M1368,-88.95C1368,-80.72 1368,-71.85 1368,-63.48\"/>\n<polygon fill=\"black\" stroke=\"black\" points=\"1371.5,-63.24 1368,-53.24 1364.5,-63.24 1371.5,-63.24\"/>\n</g>\n<!-- 25 -->\n<g id=\"node26\" class=\"node\">\n<title>25</title>\n<polygon fill=\"none\" stroke=\"black\" points=\"1560,-53 1444,-53 1444,0 1560,0 1560,-53\"/>\n<text text-anchor=\"middle\" x=\"1502\" y=\"-37.8\" font-family=\"Helvetica,sans-Serif\" font-size=\"14.00\">entropy = 0.999</text>\n<text text-anchor=\"middle\" x=\"1502\" y=\"-22.8\" font-family=\"Helvetica,sans-Serif\" font-size=\"14.00\">samples = 33</text>\n<text text-anchor=\"middle\" x=\"1502\" y=\"-7.8\" font-family=\"Helvetica,sans-Serif\" font-size=\"14.00\">value = [17, 16]</text>\n</g>\n<!-- 23&#45;&gt;25 -->\n<g id=\"edge25\" class=\"edge\">\n<title>23&#45;&gt;25</title>\n<path fill=\"none\" stroke=\"black\" d=\"M1414.87,-88.95C1428.62,-79.25 1443.61,-68.68 1457.23,-59.07\"/>\n<polygon fill=\"black\" stroke=\"black\" points=\"1459.35,-61.86 1465.51,-53.24 1455.32,-56.14 1459.35,-61.86\"/>\n</g>\n</g>\n</svg>\n",
      "text/plain": [
       "<graphviz.sources.Source at 0x27dabbf5fa0>"
      ]
     },
     "execution_count": 68,
     "metadata": {},
     "output_type": "execute_result"
    }
   ],
   "source": [
    "import graphviz\n",
    "\n",
    "data = tree.export_graphviz(arbol, feature_names=dataset.columns,out_file=None)\n",
    "graphviz.Source(data)\n"
   ]
  },
  {
   "cell_type": "markdown",
   "metadata": {},
   "source": [
    "## Conclusiones"
   ]
  },
  {
   "cell_type": "markdown",
   "metadata": {},
   "source": [
    "En este caso, la categorización y transformación fueron poco exigentes ya que no había datos cuantitativos y todas las columnas comparten su dominio. \n",
    "\n",
    "Para este problema, el overfitting no es indeseado porque no se esperan datos nuevos para clasificar: el dataset es el conjunto de *todos* los resultados posibles con las reglas del ta-te-ti.\n",
    "\n",
    "Se puede ver de la raíz del arbol que el casillero central (V5) es el que mayor ganancia de información provee.\n",
    "\n",
    "Se pudo observar que la 'x' tiene casi el doble de posibilidades de ganar que la 'o'.\n",
    "\n",
    "Se observa también que para los juegos que la 'x' sólo gana en movimientos impares: 5, 7 y 9 (o sea cuando es su turno). \n",
    "\n",
    "En particular, si se llega al turno 9 (el últiumo), las 'x' tienen casi el 80% de posibilidades de ganar.\n",
    "\n",
    "Casi el doble de las partidas terminan en 7 turnos que en otra cantidad.\n",
    "\n",
    "Para el splitting del 10%, se obtiene el 77% de predicciones correctas. Aumentando a 30% el splitting de testing, se llega al 81%."
   ]
  }
 ],
 "metadata": {
  "interpreter": {
   "hash": "15da3515ba252763fd7c2ebdf28b2b40f2e252cd2a2f7043faa2f5b24bfdf25e"
  },
  "kernelspec": {
   "display_name": "Python 3.9.6 ('.venv': venv)",
   "language": "python",
   "name": "python3"
  },
  "language_info": {
   "codemirror_mode": {
    "name": "ipython",
    "version": 3
   },
   "file_extension": ".py",
   "mimetype": "text/x-python",
   "name": "python",
   "nbconvert_exporter": "python",
   "pygments_lexer": "ipython3",
   "version": "3.9.6"
  },
  "orig_nbformat": 4
 },
 "nbformat": 4,
 "nbformat_minor": 2
}
