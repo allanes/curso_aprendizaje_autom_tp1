{
  "cells": [
    {
      "cell_type": "markdown",
      "metadata": {
        "id": "Y3MUhm-w8DRa"
      },
      "source": [
        "**# Ejemplo de Árbol de decisión**"
      ]
    },
    {
      "cell_type": "code",
      "execution_count": 1,
      "metadata": {
        "id": "h0psPkDuxYwj"
      },
      "outputs": [],
      "source": [
        "######################\n",
        "# adquirir datos\n",
        "######################\n",
        "\n",
        "import pandas as pd\n",
        "datos = pd.read_csv(\"./data/diabetes.csv\") # dataframe\n",
        "\n",
        "# Voy a categorizar en funcion de los casos sin diabetes (casos negativos)\n",
        "casos_negativos = datos.sort_values(by='Outcome')\n",
        "cantidad_casos_negativos = casos_negativos['Outcome'].value_counts(sort=False,ascending=True)[0]\n",
        "casos_negativos = casos_negativos[:cantidad_casos_negativos]\n",
        "# print(casos_negativos)"
      ]
    },
    {
      "cell_type": "code",
      "execution_count": 2,
      "metadata": {},
      "outputs": [
        {
          "name": "stdout",
          "output_type": "stream",
          "text": [
            "cantidad de ceros en Glucose: 5\n",
            "cantidad de ceros en BloodPressure: 35\n",
            "cantidad de ceros en SkinThickness: 227\n",
            "cantidad de ceros en Insulin: 374\n",
            "cantidad de ceros en BMI: 11\n",
            "cantidad de ceros en DiabetesPedigreeFunction: 0\n",
            "cuenta:652\n"
          ]
        }
      ],
      "source": [
        "import numpy as np\n",
        "# Indagacion de los datos\n",
        "# Analizo los datos en busca de ceros y faltantes\n",
        "caracteristicas = ['Glucose', 'BloodPressure', 'SkinThickness', 'Insulin', 'BMI','DiabetesPedigreeFunction']\n",
        "cuenta = 0\n",
        "for caract in caracteristicas:\n",
        "    descriptor = datos[caract].describe()\n",
        "    cuenta_de_valores = datos[caract].value_counts()\n",
        "    cantidad_ceros = cuenta_de_valores[0] if 0 in cuenta_de_valores else 0\n",
        "    cuenta += cantidad_ceros\n",
        "    print(f'cantidad de ceros en {caract}: {cantidad_ceros}')\n",
        "print(f'cuenta:{cuenta}')\n",
        "\n"
      ]
    },
    {
      "cell_type": "markdown",
      "metadata": {},
      "source": [
        "Dado que existe una cantidad significativa de ceros, y considerando que \n",
        "representan que no se midió, los paso a NaN para que no sean considerados \n",
        "en los promedios y algunos calculos"
      ]
    },
    {
      "cell_type": "code",
      "execution_count": 3,
      "metadata": {},
      "outputs": [],
      "source": [
        "# Asumo que los valores nulos de `caracteristicas` no fueron medidos y los convierto a NaN\n",
        "for caract in caracteristicas:\n",
        "    datos[caract] = datos[caract].replace([0, 0.0, '0'], [pd.NA, np.NaN, pd.NA])\n",
        "    casos_negativos[caract] = casos_negativos[caract].replace([0, 0.0, '0'], np.nan)\n",
        "\n",
        "# print(datos)"
      ]
    },
    {
      "cell_type": "code",
      "execution_count": 4,
      "metadata": {
        "id": "lZMF0HXy0AOJ"
      },
      "outputs": [],
      "source": [
        "# Pre-procesamiento de datos. Categorizacion de 'Age'\n",
        "def mapearEdades(edad):\n",
        "    if (edad >= 0 and edad <= 11): return 0 # 'niño'\n",
        "    elif (edad >= 12 and edad <= 18): return 1 # 'adolescente'\n",
        "    elif (edad >= 19 and edad <= 25): return 2 # 'joven'\n",
        "    elif (edad >= 26 and edad <= 59): return 3 # 'adulto'\n",
        "    elif (edad >= 60 and edad <= 70): return 4 # 'mayor'\n",
        "    \n",
        "datos['Age'] = datos['Age'].apply(mapearEdades)"
      ]
    },
    {
      "cell_type": "code",
      "execution_count": 5,
      "metadata": {},
      "outputs": [],
      "source": [
        "# Pre-procesamiento de datos. Categorizacion de 'Glucose'\n",
        "# IMPORTANTE: Categorizo en función de los casos SIN diabetes\n",
        "descriptor = casos_negativos['Glucose'].describe()\n",
        "\n",
        "intervalos_glucosa_segun_promedio = [\n",
        "    descriptor['min'], \n",
        "    descriptor['mean'] - descriptor['std'], \n",
        "    descriptor['mean'] + descriptor['std'], \n",
        "    descriptor['max']\n",
        "    ]\n",
        "etiquetas_glucosa = [0, 1, 2]\n",
        "\n",
        "datos['Glucose'] = pd.cut(datos['Glucose'], bins=intervalos_glucosa_segun_promedio, labels=etiquetas_glucosa)\n",
        "# print(datos)"
      ]
    },
    {
      "cell_type": "code",
      "execution_count": 6,
      "metadata": {},
      "outputs": [],
      "source": [
        "# Categorizo el resto de las caracteristicas segun el bloque anterior\n",
        "caracteristicas_restantes = ['BloodPressure', 'SkinThickness', 'BMI', 'DiabetesPedigreeFunction', 'Insulin']\n",
        "\n",
        "for caract in caracteristicas_restantes:\n",
        "    descriptor = casos_negativos[caract].describe()\n",
        "    # print(descriptor)\n",
        "    intervalos = [\n",
        "        descriptor['min'], \n",
        "        descriptor['mean'] - descriptor['std'], \n",
        "        descriptor['mean'] + descriptor['std'], \n",
        "        descriptor['max']\n",
        "        ]\n",
        "    etiquetas = [0, 1, 2]\n",
        "\n",
        "    datos[caract] = pd.cut(datos[caract], bins=intervalos, labels=etiquetas)\n",
        "    # print(datos)\n"
      ]
    },
    {
      "cell_type": "code",
      "execution_count": 12,
      "metadata": {},
      "outputs": [
        {
          "name": "stdout",
          "output_type": "stream",
          "text": [
            "     index  Pregnancies Glucose BloodPressure SkinThickness Insulin BMI  \\\n",
            "3        3            1       1             1             1       1   1   \n",
            "4        4            0       2             0             1       1   2   \n",
            "6        6            3       0             0             1       1   1   \n",
            "8        8            2       2             1             2       2   1   \n",
            "14      14            5       2             1             1       1   1   \n",
            "..     ...          ...     ...           ...           ...     ...  ..   \n",
            "753    753            0       2             2             2       2   2   \n",
            "755    755            1       1             2             2       1   1   \n",
            "760    760            2       1             0             1       0   1   \n",
            "763    763           10       1             1             2       1   1   \n",
            "765    765            5       1             1             1       1   1   \n",
            "\n",
            "    DiabetesPedigreeFunction  Age  Outcome  \n",
            "3                          1  2.0        0  \n",
            "4                          2  3.0        1  \n",
            "6                          1  3.0        1  \n",
            "8                          1  3.0        1  \n",
            "14                         1  3.0        1  \n",
            "..                       ...  ...      ...  \n",
            "753                        1  3.0        1  \n",
            "755                        2  3.0        1  \n",
            "760                        2  2.0        0  \n",
            "763                        1  4.0        0  \n",
            "765                        1  3.0        0  \n",
            "\n",
            "[382 rows x 10 columns]\n"
          ]
        }
      ],
      "source": [
        "print(datos)"
      ]
    },
    {
      "cell_type": "code",
      "execution_count": 8,
      "metadata": {},
      "outputs": [],
      "source": [
        "# Falta generar categorizacion en funcion de cuartiles"
      ]
    },
    {
      "cell_type": "code",
      "execution_count": 9,
      "metadata": {},
      "outputs": [],
      "source": [
        "# IMPORTANTE: Falta normalizar"
      ]
    },
    {
      "cell_type": "markdown",
      "metadata": {},
      "source": [
        "### Splitting de datos"
      ]
    },
    {
      "cell_type": "code",
      "execution_count": 10,
      "metadata": {},
      "outputs": [],
      "source": [
        "# Splitting de datos\n",
        "\n",
        "from sklearn.model_selection import train_test_split\n",
        "\n",
        "caracteristicas_entrada = [\n",
        "    'Pregnancies', \n",
        "    'Glucose',\n",
        "    'BloodPressure', \n",
        "    'SkinThickness', \n",
        "    'BMI', \n",
        "    'DiabetesPedigreeFunction', \n",
        "    'Insulin',\n",
        "    'Age']\n",
        "caracteristicas_objetivo = 'Outcome'\n",
        "\n",
        "X_train, X_test, y_train, y_test = train_test_split(\n",
        "    datos[caracteristicas_entrada],\n",
        "    datos[caracteristicas_objetivo],\n",
        "    test_size = 0.3\n",
        "    )"
      ]
    },
    {
      "cell_type": "code",
      "execution_count": 14,
      "metadata": {},
      "outputs": [
        {
          "ename": "IndentationError",
          "evalue": "unexpected indent (678129080.py, line 4)",
          "output_type": "error",
          "traceback": [
            "\u001b[1;36m  Input \u001b[1;32mIn [14]\u001b[1;36m\u001b[0m\n\u001b[1;33m    with mock.patch(\"sklearn.utils.validation._assert_all_finite\"): pass\u001b[0m\n\u001b[1;37m    ^\u001b[0m\n\u001b[1;31mIndentationError\u001b[0m\u001b[1;31m:\u001b[0m unexpected indent\n"
          ]
        }
      ],
      "source": [
        "from unittest import mock\n",
        "from sklearn import tree\n",
        "import sklearn with mock.patch(\"sklearn.utils.validation._assert_all_finite\"): pass\n",
        "\n",
        "arbol_segun_media = tree.DecisionTreeClassifier(criterion='entropy')\n",
        "arbol_segun_media.fit(X=X_train, y=y_train)"
      ]
    }
  ],
  "metadata": {
    "colab": {
      "collapsed_sections": [],
      "name": "ejemplo_arbol_decision.ipynb",
      "provenance": []
    },
    "kernelspec": {
      "display_name": "Python 3",
      "name": "python3"
    },
    "language_info": {
      "codemirror_mode": {
        "name": "ipython",
        "version": 3
      },
      "file_extension": ".py",
      "mimetype": "text/x-python",
      "name": "python",
      "nbconvert_exporter": "python",
      "pygments_lexer": "ipython3",
      "version": "3.9.5"
    }
  },
  "nbformat": 4,
  "nbformat_minor": 0
}
