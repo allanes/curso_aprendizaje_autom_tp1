{
  "cells": [
    {
      "cell_type": "markdown",
      "metadata": {
        "id": "Y3MUhm-w8DRa"
      },
      "source": [
        "**# Ejemplo de Árbol de decisión**"
      ]
    },
    {
      "cell_type": "code",
      "execution_count": 428,
      "metadata": {
        "id": "h0psPkDuxYwj"
      },
      "outputs": [],
      "source": [
        "######################\n",
        "# adquirir datos\n",
        "######################\n",
        "\n",
        "import pandas as pd\n",
        "datos = pd.read_csv(\"data/diabetes.csv\") # dataframe\n",
        "\n",
        "# Voy a categorizar en funcion de los casos sin diabetes (casos negativos)\n",
        "casos_negativos = datos.sort_values(by='Outcome')\n",
        "cantidad_casos_negativos = casos_negativos['Outcome'].value_counts(sort=False,ascending=True)[0]\n",
        "casos_negativos = casos_negativos[:cantidad_casos_negativos]\n",
        "# print(casos_negativos)"
      ]
    },
    {
      "cell_type": "code",
      "execution_count": 429,
      "metadata": {},
      "outputs": [
        {
          "name": "stdout",
          "output_type": "stream",
          "text": [
            "cantidad de ceros en Glucose: 5\n",
            "cantidad de ceros en BloodPressure: 35\n",
            "cantidad de ceros en SkinThickness: 227\n",
            "cantidad de ceros en Insulin: 374\n",
            "cantidad de ceros en BMI: 11\n",
            "cantidad de ceros en DiabetesPedigreeFunction: 0\n",
            "cuenta:652\n"
          ]
        }
      ],
      "source": [
        "import numpy as np\n",
        "# Indagacion de los datos\n",
        "# Analizo los datos en busca de ceros y faltantes\n",
        "caracteristicas = ['Glucose', 'BloodPressure', 'SkinThickness', 'Insulin', 'BMI','DiabetesPedigreeFunction']\n",
        "cuenta = 0\n",
        "for caract in caracteristicas:\n",
        "    descriptor = datos[caract].describe()\n",
        "    cuenta_de_valores = datos[caract].value_counts()\n",
        "    cantidad_ceros = cuenta_de_valores[0] if 0 in cuenta_de_valores else 0\n",
        "    cuenta += cantidad_ceros\n",
        "    print(f'cantidad de ceros en {caract}: {cantidad_ceros}')\n",
        "print(f'cuenta:{cuenta}')\n",
        "\n"
      ]
    },
    {
      "cell_type": "markdown",
      "metadata": {},
      "source": [
        "Dado que existe una cantidad significativa de ceros, y considerando que \n",
        "representan que no se midió, los paso a NaN para que no sean considerados \n",
        "en los promedios y algunos calculos"
      ]
    },
    {
      "cell_type": "code",
      "execution_count": 430,
      "metadata": {},
      "outputs": [],
      "source": [
        "# Asumo que los valores nulos de `caracteristicas` no fueron medidos y los convierto a NaN\n",
        "# print(datos['Glucose'].describe())\n",
        "for caract in caracteristicas:\n",
        "    descriptor = casos_negativos[caract].describe()\n",
        "    datos[caract] = datos[caract].replace([0, 0.0], np.NaN)\n",
        "    casos_negativos[caract] = casos_negativos[caract].replace([0, 0.0, '0'], np.NaN)\n",
        "\n",
        "# print(datos['Glucose'].describe())"
      ]
    },
    {
      "cell_type": "code",
      "execution_count": 431,
      "metadata": {},
      "outputs": [
        {
          "name": "stdout",
          "output_type": "stream",
          "text": [
            "     index  Pregnancies  Glucose  BloodPressure  SkinThickness  Insulin   BMI  \\\n",
            "0        3            1     89.0           66.0           23.0     94.0  28.1   \n",
            "1        4            0    137.0           40.0           35.0    168.0  43.1   \n",
            "2        6            3     78.0           50.0           32.0     88.0  31.0   \n",
            "3        8            2    197.0           70.0           45.0    543.0  30.5   \n",
            "4       13            1    189.0           60.0           23.0    846.0  30.1   \n",
            "..     ...          ...      ...            ...            ...      ...   ...   \n",
            "387    753            0    181.0           88.0           44.0    510.0  43.3   \n",
            "388    755            1    128.0           88.0           39.0    110.0  36.5   \n",
            "389    760            2     88.0           58.0           26.0     16.0  28.4   \n",
            "390    763           10    101.0           76.0           48.0    180.0  32.9   \n",
            "391    765            5    121.0           72.0           23.0    112.0  26.2   \n",
            "\n",
            "     DiabetesPedigreeFunction  Age  Outcome  \n",
            "0                       0.167   21        0  \n",
            "1                       2.288   33        1  \n",
            "2                       0.248   26        1  \n",
            "3                       0.158   53        1  \n",
            "4                       0.398   59        1  \n",
            "..                        ...  ...      ...  \n",
            "387                     0.222   26        1  \n",
            "388                     1.057   37        1  \n",
            "389                     0.766   22        0  \n",
            "390                     0.171   63        0  \n",
            "391                     0.245   30        0  \n",
            "\n",
            "[392 rows x 10 columns]\n"
          ]
        }
      ],
      "source": [
        "\n",
        "# Se prueba sacando todas las filas que contengan algun NaN\n",
        "datos = datos.dropna().reset_index()\n",
        "datos_segun_cuantiles = datos.copy()\n",
        "print(datos_segun_cuantiles)"
      ]
    },
    {
      "cell_type": "code",
      "execution_count": 432,
      "metadata": {
        "id": "lZMF0HXy0AOJ"
      },
      "outputs": [],
      "source": [
        "# Pre-procesamiento de datos. Categorizacion de 'Age'\n",
        "def mapearEdades(edad):\n",
        "    if (edad >= 0 and edad <= 11): return 0 # 'niño'\n",
        "    elif (edad >= 12 and edad <= 18): return 1 # 'adolescente'\n",
        "    elif (edad >= 19 and edad <= 25): return 2 # 'joven'\n",
        "    elif (edad >= 26 and edad <= 59): return 3 # 'adulto'\n",
        "    elif (edad >= 60 and edad <= 70): return 4 # 'mayor'\n",
        "    \n",
        "datos['Age'] = datos['Age'].apply(mapearEdades)"
      ]
    },
    {
      "cell_type": "code",
      "execution_count": 433,
      "metadata": {},
      "outputs": [],
      "source": [
        "# En este punto hago una copia de datos para preprocesarlo con otro método\n",
        "datos_segun_cuantiles = datos.copy()"
      ]
    },
    {
      "cell_type": "code",
      "execution_count": 434,
      "metadata": {},
      "outputs": [],
      "source": [
        "# Pre-procesamiento de datos. Categorizacion de 'Glucose'\n",
        "# IMPORTANTE: Categorizo en función de los casos SIN diabetes\n",
        "descriptor = casos_negativos['Glucose'].describe()\n",
        "\n",
        "intervalos_glucosa_segun_promedio = [\n",
        "    descriptor['min'], \n",
        "    descriptor['mean'] - descriptor['std'], \n",
        "    descriptor['mean'] + descriptor['std'], \n",
        "    descriptor['max']\n",
        "    ]\n",
        "etiquetas_glucosa = [0, 1, 2]\n",
        "\n",
        "datos['Glucose'] = pd.cut(datos['Glucose'], bins=intervalos_glucosa_segun_promedio, labels=etiquetas_glucosa)\n",
        "# print(datos)"
      ]
    },
    {
      "cell_type": "code",
      "execution_count": 435,
      "metadata": {},
      "outputs": [],
      "source": [
        "# Categorizo el resto de las caracteristicas segun el bloque anterior\n",
        "caracteristicas_restantes = ['BloodPressure', 'SkinThickness', 'BMI', 'DiabetesPedigreeFunction', 'Insulin']\n",
        "\n",
        "for caract in caracteristicas_restantes:\n",
        "    descriptor = casos_negativos[caract].describe()\n",
        "    # print(descriptor)\n",
        "    intervalos = [\n",
        "        descriptor['min'], \n",
        "        descriptor['mean'] - descriptor['std'], \n",
        "        descriptor['mean'] + descriptor['std'], \n",
        "        descriptor['max']\n",
        "        ]\n",
        "    etiquetas = [0, 1, 2]\n",
        "\n",
        "    datos[caract] = pd.cut(datos[caract], bins=intervalos, labels=etiquetas)\n",
        "    # print(datos)\n"
      ]
    },
    {
      "cell_type": "code",
      "execution_count": 436,
      "metadata": {},
      "outputs": [
        {
          "name": "stdout",
          "output_type": "stream",
          "text": [
            "Glucose\n",
            "BloodPressure\n",
            "SkinThickness\n",
            "Insulin\n",
            "BMI\n",
            "DiabetesPedigreeFunction\n"
          ]
        }
      ],
      "source": [
        "# Categorizo en funcion de cuartiles\n",
        "caracteristicas_a_categorizar = caracteristicas.copy()\n",
        "# caracteristicas_a_categorizar.insert(0, 'Age')\n",
        "\n",
        "CANTIDAD_CATEGORIAS = 10\n",
        "for caract in caracteristicas_a_categorizar:\n",
        "    print(caract)\n",
        "    datos_segun_cuantiles[caract], intervalos_q = pd.qcut(\n",
        "        x=datos_segun_cuantiles[caract], \n",
        "        q=CANTIDAD_CATEGORIAS, \n",
        "        labels=[cat for cat in range(CANTIDAD_CATEGORIAS)], \n",
        "        retbins=True,\n",
        "        duplicates='drop'\n",
        "    )\n",
        "    # print(pd.value_counts(datos_segun_cuantiles[caract]))"
      ]
    },
    {
      "cell_type": "code",
      "execution_count": 437,
      "metadata": {},
      "outputs": [],
      "source": [
        "# IMPORTANTE: Falta normalizar"
      ]
    },
    {
      "cell_type": "markdown",
      "metadata": {},
      "source": [
        "### Splitting de datos"
      ]
    },
    {
      "cell_type": "code",
      "execution_count": 438,
      "metadata": {},
      "outputs": [],
      "source": [
        "# Splitting de datos\n",
        "\n",
        "from sklearn.model_selection import train_test_split\n",
        "\n",
        "caracteristicas_entrada = [\n",
        "    # 'Pregnancies', \n",
        "    'Glucose',\n",
        "    'BloodPressure', \n",
        "    'SkinThickness', \n",
        "    'BMI', \n",
        "    'DiabetesPedigreeFunction', \n",
        "    'Insulin',\n",
        "    'Age']\n",
        "caracteristicas_objetivo = 'Outcome'\n",
        "\n",
        "X_train, X_test, y_train, y_test = train_test_split(\n",
        "    datos[caracteristicas_entrada],\n",
        "    datos[caracteristicas_objetivo],\n",
        "    test_size = 0.3\n",
        "    )\n",
        "\n",
        "X_segun_cuantiles_train, X_segun_cuantiles_test, y_segun_cuantiles_train, y_segun_cuantiles_test = train_test_split(\n",
        "    datos_segun_cuantiles[caracteristicas_entrada],\n",
        "    datos_segun_cuantiles[caracteristicas_objetivo],\n",
        "    test_size = 0.3\n",
        "    )"
      ]
    },
    {
      "cell_type": "code",
      "execution_count": 439,
      "metadata": {},
      "outputs": [],
      "source": [
        "from unittest import mock\n",
        "from sklearn import tree\n",
        "import sklearn\n",
        "PROFUNDIDAD_ARBOL = 4\n",
        "\n",
        "arbol_segun_media = tree.DecisionTreeClassifier(criterion='entropy', max_depth=PROFUNDIDAD_ARBOL)\n",
        "arbol_segun_cuantiles = tree.DecisionTreeClassifier(criterion='entropy', max_depth=PROFUNDIDAD_ARBOL)\n",
        "with mock.patch(\"sklearn.utils.validation._assert_all_finite\"):\n",
        "    arbol_segun_media.fit(X=X_train, y=y_train)\n",
        "    arbol_segun_cuantiles.fit(X=X_segun_cuantiles_train, y=y_segun_cuantiles_train)\n",
        "    "
      ]
    },
    {
      "cell_type": "code",
      "execution_count": 440,
      "metadata": {},
      "outputs": [
        {
          "data": {
            "image/png": "[encoded data removed]",
            "text/plain": [
              "<Figure size 432x288 with 2 Axes>"
            ]
          },
          "metadata": {
            "needs_background": "light"
          },
          "output_type": "display_data"
        },
        {
          "data": {
            "image/png": "[encoded data removed]",
            "text/plain": [
              "<Figure size 432x288 with 2 Axes>"
            ]
          },
          "metadata": {
            "needs_background": "light"
          },
          "output_type": "display_data"
        }
      ],
      "source": [
        "from sklearn.metrics import confusion_matrix, ConfusionMatrixDisplay\n",
        "from matplotlib import pyplot as plt\n",
        "\n",
        "# Analizar modelo\n",
        "predicciones_segun_media = []\n",
        "predicciones_segun_cuantiles = []\n",
        "with mock.patch(\"sklearn.utils.validation._assert_all_finite\"):\n",
        "    predicciones_segun_media = arbol_segun_media.predict(X=X_test)\n",
        "    predicciones_segun_cuantiles = arbol_segun_cuantiles.predict(X=X_segun_cuantiles_test)\n",
        "\n",
        "matriz_confusion_segun_media = confusion_matrix(y_true=y_test, y_pred=predicciones_segun_media)\n",
        "matriz_confusion_segun_cuantiles = confusion_matrix(y_true=y_segun_cuantiles_test, y_pred=predicciones_segun_cuantiles)\n",
        "\n",
        "widget_matriz_confusion_segun_media = ConfusionMatrixDisplay(\n",
        "    confusion_matrix=matriz_confusion_segun_media,\n",
        "    display_labels=arbol_segun_media.classes_\n",
        "    )\n",
        "widget_matriz_confusion_segun_cuantiles = ConfusionMatrixDisplay(\n",
        "    confusion_matrix=matriz_confusion_segun_cuantiles,\n",
        "    display_labels=arbol_segun_cuantiles.classes_\n",
        "    )\n",
        "widget_matriz_confusion_segun_media.plot()\n",
        "widget_matriz_confusion_segun_cuantiles.plot()\n",
        "plt.show()"
      ]
    },
    {
      "cell_type": "code",
      "execution_count": 441,
      "metadata": {},
      "outputs": [
        {
          "data": {
            "text/plain": [
              "[Text(0.5340909090909091, 0.9, 'X[0] <= 1.5\\nentropy = 0.91\\nsamples = 274\\nvalue = [185, 89]'),\n",
              " Text(0.29545454545454547, 0.7, 'X[6] <= 2.5\\nentropy = 0.709\\nsamples = 191\\nvalue = [154, 37]'),\n",
              " Text(0.18181818181818182, 0.5, 'X[2] <= 1.5\\nentropy = 0.429\\nsamples = 91\\nvalue = [83, 8]'),\n",
              " Text(0.09090909090909091, 0.3, 'X[1] <= 1.5\\nentropy = 0.334\\nsamples = 81\\nvalue = [76, 5]'),\n",
              " Text(0.045454545454545456, 0.1, 'entropy = 0.306\\nsamples = 73\\nvalue = [69, 4]'),\n",
              " Text(0.13636363636363635, 0.1, 'entropy = 0.544\\nsamples = 8\\nvalue = [7, 1]'),\n",
              " Text(0.2727272727272727, 0.3, 'X[5] <= 1.5\\nentropy = 0.881\\nsamples = 10\\nvalue = [7, 3]'),\n",
              " Text(0.22727272727272727, 0.1, 'entropy = 0.764\\nsamples = 9\\nvalue = [7, 2]'),\n",
              " Text(0.3181818181818182, 0.1, 'entropy = 0.0\\nsamples = 1\\nvalue = [0, 1]'),\n",
              " Text(0.4090909090909091, 0.5, 'X[2] <= 0.5\\nentropy = 0.869\\nsamples = 100\\nvalue = [71, 29]'),\n",
              " Text(0.36363636363636365, 0.3, 'entropy = 0.0\\nsamples = 14\\nvalue = [14, 0]'),\n",
              " Text(0.45454545454545453, 0.3, 'X[4] <= 1.5\\nentropy = 0.922\\nsamples = 86\\nvalue = [57, 29]'),\n",
              " Text(0.4090909090909091, 0.1, 'entropy = 0.837\\nsamples = 60\\nvalue = [44, 16]'),\n",
              " Text(0.5, 0.1, 'entropy = 1.0\\nsamples = 26\\nvalue = [13, 13]'),\n",
              " Text(0.7727272727272727, 0.7, 'X[6] <= 2.5\\nentropy = 0.953\\nsamples = 83\\nvalue = [31, 52]'),\n",
              " Text(0.6818181818181818, 0.5, 'X[1] <= 1.5\\nentropy = 0.971\\nsamples = 20\\nvalue = [12, 8]'),\n",
              " Text(0.6363636363636364, 0.3, 'X[3] <= nan\\nentropy = 0.998\\nsamples = 17\\nvalue = [9, 8]'),\n",
              " Text(0.5909090909090909, 0.1, 'entropy = 0.971\\nsamples = 5\\nvalue = [2, 3]'),\n",
              " Text(0.6818181818181818, 0.1, 'entropy = 0.98\\nsamples = 12\\nvalue = [7, 5]'),\n",
              " Text(0.7272727272727273, 0.3, 'entropy = 0.0\\nsamples = 3\\nvalue = [3, 0]'),\n",
              " Text(0.8636363636363636, 0.5, 'X[1] <= 0.5\\nentropy = 0.883\\nsamples = 63\\nvalue = [19, 44]'),\n",
              " Text(0.8181818181818182, 0.3, 'entropy = 0.0\\nsamples = 3\\nvalue = [0, 3]'),\n",
              " Text(0.9090909090909091, 0.3, 'X[1] <= 1.5\\nentropy = 0.901\\nsamples = 60\\nvalue = [19, 41]'),\n",
              " Text(0.8636363636363636, 0.1, 'entropy = 0.946\\nsamples = 44\\nvalue = [16, 28]'),\n",
              " Text(0.9545454545454546, 0.1, 'entropy = 0.696\\nsamples = 16\\nvalue = [3, 13]')]"
            ]
          },
          "execution_count": 441,
          "metadata": {},
          "output_type": "execute_result"
        },
        {
          "data": {
            "image/png": "[encoded data removed]",
            "text/plain": [
              "<Figure size 432x288 with 1 Axes>"
            ]
          },
          "metadata": {
            "needs_background": "light"
          },
          "output_type": "display_data"
        }
      ],
      "source": [
        "# print(X_train)\n",
        "tree.plot_tree(arbol_segun_media)"
      ]
    },
    {
      "cell_type": "code",
      "execution_count": 442,
      "metadata": {},
      "outputs": [
        {
          "data": {
            "image/png": "[encoded data removed]",
            "text/plain": [
              "<Figure size 432x288 with 1 Axes>"
            ]
          },
          "metadata": {
            "needs_background": "light"
          },
          "output_type": "display_data"
        }
      ],
      "source": [
        "from matplotlib import image as pltimg\n",
        "from matplotlib import pyplot as plt\n",
        "import pydotplus\n",
        "\n",
        "data = tree.export_graphviz(arbol_segun_media, feature_names=caracteristicas_entrada,out_file=None)\n",
        "graph = pydotplus.graph_from_dot_data(data)\n",
        "graph.write_png(\"mi_arbol.png\")\n",
        "\n",
        "img = pltimg.imread(\"mi_arbol.png\")\n",
        "imgplot = plt.imshow(img)\n",
        "plt.show()"
      ]
    }
  ],
  "metadata": {
    "colab": {
      "collapsed_sections": [],
      "name": "ejemplo_arbol_decision.ipynb",
      "provenance": []
    },
    "kernelspec": {
      "display_name": "Python 3",
      "name": "python3"
    },
    "language_info": {
      "codemirror_mode": {
        "name": "ipython",
        "version": 3
      },
      "file_extension": ".py",
      "mimetype": "text/x-python",
      "name": "python",
      "nbconvert_exporter": "python",
      "pygments_lexer": "ipython3",
      "version": "3.9.6"
    }
  },
  "nbformat": 4,
  "nbformat_minor": 0
}
