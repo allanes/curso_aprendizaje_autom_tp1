{
  "cells": [
    {
      "cell_type": "markdown",
      "metadata": {
        "id": "Y3MUhm-w8DRa"
      },
      "source": [
        "**# Ejemplo de Árbol de decisión**"
      ]
    },
    {
      "cell_type": "code",
      "execution_count": 2,
      "metadata": {
        "id": "h0psPkDuxYwj"
      },
      "outputs": [],
      "source": [
        "######################\n",
        "# adquirir datos\n",
        "######################\n",
        "\n",
        "import pandas as pd\n",
        "datos = pd.read_csv(\"./data/diabetes.csv\") # dataframe\n",
        "\n",
        "# Voy a categorizar en funcion de los casos sin diabetes (casos negativos)\n",
        "casos_negativos = datos.sort_values(by='Outcome')\n",
        "cantidad_casos_negativos = casos_negativos['Outcome'].value_counts(sort=False,ascending=True)[0]\n",
        "casos_negativos = casos_negativos[:cantidad_casos_negativos]"
      ]
    },
    {
      "cell_type": "code",
      "execution_count": 6,
      "metadata": {},
      "outputs": [
        {
          "name": "stdout",
          "output_type": "stream",
          "text": [
            "cantidad de ceros en Glucose: 3\n",
            "cantidad de ceros en BloodPressure: 19\n",
            "cantidad de ceros en SkinThickness: 139\n",
            "cantidad de ceros en Insulin: 236\n",
            "cantidad de ceros en BMI: 9\n",
            "cantidad de ceros en DiabetesPedigreeFunction: 0\n",
            "cuenta:406\n",
            "Glucose: count    768.000000\n",
            "mean     120.894531\n",
            "std       31.972618\n",
            "min        0.000000\n",
            "25%       99.000000\n",
            "50%      117.000000\n",
            "75%      140.250000\n",
            "max      199.000000\n",
            "Name: Glucose, dtype: float64\n",
            "BloodPressure: count    768.000000\n",
            "mean      69.105469\n",
            "std       19.355807\n",
            "min        0.000000\n",
            "25%       62.000000\n",
            "50%       72.000000\n",
            "75%       80.000000\n",
            "max      122.000000\n",
            "Name: BloodPressure, dtype: float64\n",
            "SkinThickness: count    768.000000\n",
            "mean      20.536458\n",
            "std       15.952218\n",
            "min        0.000000\n",
            "25%        0.000000\n",
            "50%       23.000000\n",
            "75%       32.000000\n",
            "max       99.000000\n",
            "Name: SkinThickness, dtype: float64\n",
            "Insulin: count    768.000000\n",
            "mean      79.799479\n",
            "std      115.244002\n",
            "min        0.000000\n",
            "25%        0.000000\n",
            "50%       30.500000\n",
            "75%      127.250000\n",
            "max      846.000000\n",
            "Name: Insulin, dtype: float64\n",
            "BMI: count    768.000000\n",
            "mean      31.992578\n",
            "std        7.884160\n",
            "min        0.000000\n",
            "25%       27.300000\n",
            "50%       32.000000\n",
            "75%       36.600000\n",
            "max       67.100000\n",
            "Name: BMI, dtype: float64\n",
            "DiabetesPedigreeFunction: count    768.000000\n",
            "mean       0.471876\n",
            "std        0.331329\n",
            "min        0.078000\n",
            "25%        0.243750\n",
            "50%        0.372500\n",
            "75%        0.626250\n",
            "max        2.420000\n",
            "Name: DiabetesPedigreeFunction, dtype: float64\n",
            "     Pregnancies  Glucose  BloodPressure  SkinThickness  Insulin   BMI  \\\n",
            "347            3      116              0              0        0  23.5   \n",
            "494            3       80              0              0        0   0.0   \n",
            "222            7      119              0              0        0  25.2   \n",
            "81             2       74              0              0        0   0.0   \n",
            "78             0      131              0              0        0  43.2   \n",
            "..           ...      ...            ...            ...      ...   ...   \n",
            "549            4      189            110             31        0  28.5   \n",
            "43             9      171            110             24      240  45.4   \n",
            "177            0      129            110             46      130  67.1   \n",
            "691           13      158            114              0        0  42.3   \n",
            "106            1       96            122              0        0  22.4   \n",
            "\n",
            "     DiabetesPedigreeFunction  Age  Outcome  \n",
            "347                     0.187   23        0  \n",
            "494                     0.174   22        0  \n",
            "222                     0.209   37        0  \n",
            "81                      0.102   22        0  \n",
            "78                      0.270   26        1  \n",
            "..                        ...  ...      ...  \n",
            "549                     0.680   37        0  \n",
            "43                      0.721   54        1  \n",
            "177                     0.319   26        1  \n",
            "691                     0.257   44        1  \n",
            "106                     0.207   27        0  \n",
            "\n",
            "[768 rows x 9 columns]\n"
          ]
        }
      ],
      "source": [
        "# Pre-procesamiento de datos.\n",
        "# Analizo los datos en busca de ceros y faltantes\n",
        "caracteristicas = ['Glucose', 'BloodPressure', 'SkinThickness', 'Insulin', 'BMI','DiabetesPedigreeFunction']\n",
        "cuenta = 0\n",
        "for caract in caracteristicas:\n",
        "    descriptor = casos_negativos[caract].describe()\n",
        "    cuenta_de_valores = casos_negativos[caract].value_counts()\n",
        "    cantidad_ceros = cuenta_de_valores[0] if 0 in cuenta_de_valores else 0\n",
        "    cuenta += cantidad_ceros\n",
        "    print(f'cantidad de ceros en {caract}: {cantidad_ceros}')\n",
        "print(f'cuenta:{cuenta}')\n",
        "\n",
        "for caract in caracteristicas:\n",
        "    print(f'{caract}: {datos[caract].describe()}')\n",
        "\n",
        "datos_ordenados = datos.sort_values(by=['BloodPressure'], ascending=True)\n",
        "print(datos_ordenados)\n"
      ]
    },
    {
      "cell_type": "code",
      "execution_count": null,
      "metadata": {
        "id": "lZMF0HXy0AOJ"
      },
      "outputs": [],
      "source": [
        "# Pre-procesamiento de datos. Categorizacion de 'Age'\n",
        "def mapearEdades(edad):\n",
        "    if (edad >= 0 and edad <= 11): return 'niño'\n",
        "    elif (edad >= 12 and edad <= 18): return 'adolescente'\n",
        "    elif (edad >= 19 and edad <= 25): return 'joven'\n",
        "    elif (edad >= 26 and edad <= 59): return 'adulto'\n",
        "    elif (edad >= 60 and edad <= 70): return 'mayor'\n",
        "    \n",
        "datos['Age'] = datos['Age'].apply(mapearEdades)"
      ]
    },
    {
      "cell_type": "code",
      "execution_count": null,
      "metadata": {},
      "outputs": [],
      "source": [
        "# Pre-procesamiento de datos. Categorizacion de 'Glucose'\n",
        "# Tomo los casos sin diabetes\n",
        "descriptor = casos_negativos['Glucose'].describe()\n",
        "# Nota: Falta eliminar casos de glucosa=0\n",
        "\n",
        "intervalos_glucosa = [\n",
        "    0, \n",
        "    descriptor['mean'] - descriptor['std'], \n",
        "    descriptor['mean'] + descriptor['std'], \n",
        "    descriptor['max']\n",
        "    ]\n",
        "etiquetas_glucosa = ['baja', 'normal', 'alta']\n",
        "\n",
        "datos['Glucose'] = pd.cut(datos['Glucose'], bins=intervalos_glucosa, labels=etiquetas_glucosa)\n",
        "# print(datos)"
      ]
    },
    {
      "cell_type": "code",
      "execution_count": null,
      "metadata": {},
      "outputs": [],
      "source": [
        "# Categorizo el resto de las caracteristicas segun el bloque anterior\n",
        "caracteristicas = ['BloodPressure', 'SkinThickness', 'BMI', 'DiabetesPedigreeFunction']\n",
        "caracteristicas_a_revisar = ['Insulin']\n",
        "\n",
        "for caract in caracteristicas:\n",
        "    descriptor = casos_negativos[caract].describe()\n",
        "    # Nota: Falta considerar casos de caracteristica=0\n",
        "    print(caract)\n",
        "    intervalos = [\n",
        "        0, \n",
        "        descriptor['mean'] - descriptor['std'], \n",
        "        descriptor['mean'] + descriptor['std'], \n",
        "        descriptor['max']\n",
        "        ]\n",
        "    etiquetas = ['baja', 'normal', 'alta']\n",
        "\n",
        "    datos[caract] = pd.cut(datos[caract], bins=intervalos, labels=etiquetas)\n"
      ]
    }
  ],
  "metadata": {
    "colab": {
      "collapsed_sections": [],
      "name": "ejemplo_arbol_decision.ipynb",
      "provenance": []
    },
    "kernelspec": {
      "display_name": "Python 3",
      "name": "python3"
    },
    "language_info": {
      "codemirror_mode": {
        "name": "ipython",
        "version": 3
      },
      "file_extension": ".py",
      "mimetype": "text/x-python",
      "name": "python",
      "nbconvert_exporter": "python",
      "pygments_lexer": "ipython3",
      "version": "3.9.5"
    }
  },
  "nbformat": 4,
  "nbformat_minor": 0
}
