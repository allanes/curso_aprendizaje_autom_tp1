{
  "cells": [
    {
      "cell_type": "markdown",
      "metadata": {
        "id": "Y3MUhm-w8DRa"
      },
      "source": [
        "**# Ejemplo de Árbol de decisión**"
      ]
    },
    {
      "cell_type": "code",
      "execution_count": 134,
      "metadata": {
        "id": "h0psPkDuxYwj"
      },
      "outputs": [],
      "source": [
        "######################\n",
        "# adquirir datos\n",
        "######################\n",
        "\n",
        "import pandas as pd\n",
        "datos = pd.read_csv(\"data/diabetes.csv\") # dataframe\n",
        "\n",
        "# Voy a categorizar en funcion de los casos sin diabetes (casos negativos)\n",
        "casos_negativos = datos.sort_values(by='Outcome')\n",
        "cantidad_casos_negativos = casos_negativos['Outcome'].value_counts(sort=False,ascending=True)[0]\n",
        "casos_negativos = casos_negativos[:cantidad_casos_negativos]\n",
        "# print(casos_negativos)"
      ]
    },
    {
      "cell_type": "code",
      "execution_count": 135,
      "metadata": {},
      "outputs": [
        {
          "name": "stdout",
          "output_type": "stream",
          "text": [
            "cantidad de ceros en Glucose: 5\n",
            "cantidad de ceros en BloodPressure: 35\n",
            "cantidad de ceros en SkinThickness: 227\n",
            "cantidad de ceros en Insulin: 374\n",
            "cantidad de ceros en BMI: 11\n",
            "cantidad de ceros en DiabetesPedigreeFunction: 0\n",
            "cuenta:652\n"
          ]
        }
      ],
      "source": [
        "import numpy as np\n",
        "# Indagacion de los datos\n",
        "# Analizo los datos en busca de ceros y faltantes\n",
        "caracteristicas = ['Glucose', 'BloodPressure', 'SkinThickness', 'Insulin', 'BMI','DiabetesPedigreeFunction']\n",
        "cuenta = 0\n",
        "for caract in caracteristicas:\n",
        "    descriptor = datos[caract].describe()\n",
        "    cuenta_de_valores = datos[caract].value_counts()\n",
        "    cantidad_ceros = cuenta_de_valores[0] if 0 in cuenta_de_valores else 0\n",
        "    cuenta += cantidad_ceros\n",
        "    print(f'cantidad de ceros en {caract}: {cantidad_ceros}')\n",
        "print(f'cuenta:{cuenta}')\n",
        "\n"
      ]
    },
    {
      "cell_type": "markdown",
      "metadata": {},
      "source": [
        "Dado que existe una cantidad significativa de ceros, y considerando que \n",
        "representan que no se midió, los paso a NaN para que no sean considerados \n",
        "en los promedios y algunos calculos"
      ]
    },
    {
      "cell_type": "code",
      "execution_count": 136,
      "metadata": {},
      "outputs": [],
      "source": [
        "# Asumo que los valores nulos de `caracteristicas` no fueron medidos y los convierto a NaN\n",
        "# print(datos['Glucose'].describe())\n",
        "for caract in caracteristicas:\n",
        "    descriptor = casos_negativos[caract].describe()\n",
        "    datos[caract] = datos[caract].replace([0, 0.0], np.NaN)\n",
        "    casos_negativos[caract] = casos_negativos[caract].replace([0, 0.0, '0'], np.NaN)\n",
        "\n",
        "# print(datos['Glucose'].describe())"
      ]
    },
    {
      "cell_type": "code",
      "execution_count": 153,
      "metadata": {},
      "outputs": [],
      "source": [
        "# Se prueba sacando todas las filas que contengan algun NaN\n",
        "datos = datos.dropna().reset_index()\n",
        "# print(datos)"
      ]
    },
    {
      "cell_type": "code",
      "execution_count": 138,
      "metadata": {
        "id": "lZMF0HXy0AOJ"
      },
      "outputs": [],
      "source": [
        "# Pre-procesamiento de datos. Categorizacion de 'Age'\n",
        "def mapearEdades(edad):\n",
        "    if (edad >= 0 and edad <= 11): return 0 # 'niño'\n",
        "    elif (edad >= 12 and edad <= 18): return 1 # 'adolescente'\n",
        "    elif (edad >= 19 and edad <= 25): return 2 # 'joven'\n",
        "    elif (edad >= 26 and edad <= 59): return 3 # 'adulto'\n",
        "    elif (edad >= 60 and edad <= 70): return 4 # 'mayor'\n",
        "    \n",
        "datos['Age'] = datos['Age'].apply(mapearEdades)"
      ]
    },
    {
      "cell_type": "code",
      "execution_count": 139,
      "metadata": {},
      "outputs": [],
      "source": [
        "# Pre-procesamiento de datos. Categorizacion de 'Glucose'\n",
        "# IMPORTANTE: Categorizo en función de los casos SIN diabetes\n",
        "descriptor = casos_negativos['Glucose'].describe()\n",
        "\n",
        "intervalos_glucosa_segun_promedio = [\n",
        "    descriptor['min'], \n",
        "    descriptor['mean'] - descriptor['std'], \n",
        "    descriptor['mean'] + descriptor['std'], \n",
        "    descriptor['max']\n",
        "    ]\n",
        "etiquetas_glucosa = [0, 1, 2]\n",
        "\n",
        "datos['Glucose'] = pd.cut(datos['Glucose'], bins=intervalos_glucosa_segun_promedio, labels=etiquetas_glucosa)\n",
        "# print(datos)"
      ]
    },
    {
      "cell_type": "code",
      "execution_count": 140,
      "metadata": {},
      "outputs": [],
      "source": [
        "# Categorizo el resto de las caracteristicas segun el bloque anterior\n",
        "caracteristicas_restantes = ['BloodPressure', 'SkinThickness', 'BMI', 'DiabetesPedigreeFunction', 'Insulin']\n",
        "\n",
        "for caract in caracteristicas_restantes:\n",
        "    descriptor = casos_negativos[caract].describe()\n",
        "    # print(descriptor)\n",
        "    intervalos = [\n",
        "        descriptor['min'], \n",
        "        descriptor['mean'] - descriptor['std'], \n",
        "        descriptor['mean'] + descriptor['std'], \n",
        "        descriptor['max']\n",
        "        ]\n",
        "    etiquetas = [0, 1, 2]\n",
        "\n",
        "    datos[caract] = pd.cut(datos[caract], bins=intervalos, labels=etiquetas)\n",
        "    # print(datos)\n"
      ]
    },
    {
      "cell_type": "code",
      "execution_count": 141,
      "metadata": {},
      "outputs": [],
      "source": [
        "# print(datos)"
      ]
    },
    {
      "cell_type": "code",
      "execution_count": 142,
      "metadata": {},
      "outputs": [],
      "source": [
        "# Falta generar categorizacion en funcion de cuartiles"
      ]
    },
    {
      "cell_type": "code",
      "execution_count": 143,
      "metadata": {},
      "outputs": [],
      "source": [
        "# IMPORTANTE: Falta normalizar"
      ]
    },
    {
      "cell_type": "markdown",
      "metadata": {},
      "source": [
        "### Splitting de datos"
      ]
    },
    {
      "cell_type": "code",
      "execution_count": 144,
      "metadata": {},
      "outputs": [],
      "source": [
        "# Splitting de datos\n",
        "\n",
        "from sklearn.model_selection import train_test_split\n",
        "\n",
        "caracteristicas_entrada = [\n",
        "    # 'Pregnancies', \n",
        "    'Glucose',\n",
        "    'BloodPressure', \n",
        "    'SkinThickness', \n",
        "    'BMI', \n",
        "    'DiabetesPedigreeFunction', \n",
        "    'Insulin',\n",
        "    'Age']\n",
        "caracteristicas_objetivo = 'Outcome'\n",
        "\n",
        "X_train, X_test, y_train, y_test = train_test_split(\n",
        "    datos[caracteristicas_entrada],\n",
        "    datos[caracteristicas_objetivo],\n",
        "    test_size = 0.3\n",
        "    )"
      ]
    },
    {
      "cell_type": "code",
      "execution_count": 145,
      "metadata": {},
      "outputs": [],
      "source": [
        "from unittest import mock\n",
        "from sklearn import tree\n",
        "import sklearn\n",
        "\n",
        "arbol_segun_media = tree.DecisionTreeClassifier(criterion='entropy')\n",
        "with mock.patch(\"sklearn.utils.validation._assert_all_finite\"):\n",
        "    arbol_segun_media.fit(X=X_train, y=y_train)"
      ]
    },
    {
      "cell_type": "code",
      "execution_count": 146,
      "metadata": {},
      "outputs": [
        {
          "data": {
            "image/png": "[encoded data removed]",
            "text/plain": [
              "<Figure size 432x288 with 2 Axes>"
            ]
          },
          "metadata": {
            "needs_background": "light"
          },
          "output_type": "display_data"
        }
      ],
      "source": [
        "from sklearn.metrics import confusion_matrix, ConfusionMatrixDisplay\n",
        "from matplotlib import pyplot as plt\n",
        "\n",
        "# Analizar modelo\n",
        "predicciones = []\n",
        "with mock.patch(\"sklearn.utils.validation._assert_all_finite\"):\n",
        "    predicciones = arbol_segun_media.predict(X=X_test)\n",
        "matriz_confusion = confusion_matrix(y_true=y_test, y_pred=predicciones)\n",
        "widget_matriz_confusion = ConfusionMatrixDisplay(\n",
        "    confusion_matrix=matriz_confusion, \n",
        "    display_labels=arbol_segun_media.classes_\n",
        "    )\n",
        "widget_matriz_confusion.plot()\n",
        "plt.show()"
      ]
    },
    {
      "cell_type": "code",
      "execution_count": 147,
      "metadata": {},
      "outputs": [
        {
          "name": "stdout",
          "output_type": "stream",
          "text": [
            "    Glucose BloodPressure SkinThickness BMI DiabetesPedigreeFunction Insulin  \\\n",
            "30        2             2             1   1                        1       1   \n",
            "115       2             2             1   1                        1       1   \n",
            "110       2             1             2   1                        2       2   \n",
            "381       1             0             1   1                        1       1   \n",
            "382       2             2             1   2                        2       1   \n",
            "..      ...           ...           ...  ..                      ...     ...   \n",
            "389       1             0             1   1                        2       0   \n",
            "248       1             1             2   2                        1       2   \n",
            "151       2             1             0   1                        1       1   \n",
            "130       1             1             1   1                        1       1   \n",
            "24        2             1             2   1                        1       2   \n",
            "\n",
            "     Age  \n",
            "30   3.0  \n",
            "115  3.0  \n",
            "110  3.0  \n",
            "381  2.0  \n",
            "382  3.0  \n",
            "..   ...  \n",
            "389  2.0  \n",
            "248  2.0  \n",
            "151  2.0  \n",
            "130  2.0  \n",
            "24   3.0  \n",
            "\n",
            "[274 rows x 7 columns]\n"
          ]
        }
      ],
      "source": [
        "print(X_train)"
      ]
    },
    {
      "cell_type": "code",
      "execution_count": 152,
      "metadata": {},
      "outputs": [
        {
          "data": {
            "image/png": "[encoded data removed]",
            "text/plain": [
              "<Figure size 432x288 with 1 Axes>"
            ]
          },
          "metadata": {
            "needs_background": "light"
          },
          "output_type": "display_data"
        }
      ],
      "source": [
        "from matplotlib import image as pltimg\n",
        "from matplotlib import pyplot as plt\n",
        "import pydotplus\n",
        "\n",
        "data = tree.export_graphviz(arbol_segun_media, feature_names=caracteristicas_entrada,out_file=None)\n",
        "graph = pydotplus.graph_from_dot_data(data)\n",
        "graph.write_png(\"mi_arbol.png\")\n",
        "\n",
        "img = pltimg.imread(\"mi_arbol.png\")\n",
        "imgplot = plt.imshow(img)\n",
        "plt.show()"
      ]
    }
  ],
  "metadata": {
    "colab": {
      "collapsed_sections": [],
      "name": "ejemplo_arbol_decision.ipynb",
      "provenance": []
    },
    "kernelspec": {
      "display_name": "Python 3",
      "name": "python3"
    },
    "language_info": {
      "codemirror_mode": {
        "name": "ipython",
        "version": 3
      },
      "file_extension": ".py",
      "mimetype": "text/x-python",
      "name": "python",
      "nbconvert_exporter": "python",
      "pygments_lexer": "ipython3",
      "version": "3.9.6"
    }
  },
  "nbformat": 4,
  "nbformat_minor": 0
}
