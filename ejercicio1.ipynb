{
  "cells": [
    {
      "cell_type": "markdown",
      "metadata": {
        "id": "Y3MUhm-w8DRa"
      },
      "source": [
        "# Ejercicio 1"
      ]
    },
    {
      "cell_type": "markdown",
      "metadata": {},
      "source": [
        "## Adquisición  de datos"
      ]
    },
    {
      "cell_type": "code",
      "execution_count": 379,
      "metadata": {
        "id": "h0psPkDuxYwj"
      },
      "outputs": [],
      "source": [
        "import pandas as pd\n",
        "datos_raw = pd.read_csv(\"data/diabetes.csv\") # dataframe\n",
        "# print(datos_raw)"
      ]
    },
    {
      "cell_type": "markdown",
      "metadata": {},
      "source": [
        "## Pre-procesamiento de datos"
      ]
    },
    {
      "cell_type": "markdown",
      "metadata": {},
      "source": [
        "### Indagacion"
      ]
    },
    {
      "cell_type": "code",
      "execution_count": 380,
      "metadata": {},
      "outputs": [
        {
          "name": "stdout",
          "output_type": "stream",
          "text": [
            "cantidad de ceros en Glucose: 5\n",
            "cantidad de ceros en BloodPressure: 35\n",
            "cantidad de ceros en SkinThickness: 227\n",
            "cantidad de ceros en Insulin: 374\n",
            "cantidad de ceros en BMI: 11\n",
            "cantidad de ceros en DiabetesPedigreeFunction: 0\n",
            "cuenta:652\n"
          ]
        }
      ],
      "source": [
        "# Indagacion de los datos\n",
        "# Analizo los datos en busca de ceros y faltantes\n",
        "import numpy as np\n",
        "\n",
        "caracteristicas = ['Glucose', 'BloodPressure', 'SkinThickness', 'Insulin', 'BMI','DiabetesPedigreeFunction']\n",
        "cuenta = 0\n",
        "for caract in caracteristicas:\n",
        "    descriptor = datos_raw[caract].describe()\n",
        "    cuenta_de_valores = datos_raw[caract].value_counts()\n",
        "    cantidad_ceros = cuenta_de_valores[0] if 0 in cuenta_de_valores else 0\n",
        "    cuenta += cantidad_ceros\n",
        "    print(f'cantidad de ceros en {caract}: {cantidad_ceros}')\n",
        "\n",
        "print(f'cuenta:{cuenta}')\n"
      ]
    },
    {
      "cell_type": "markdown",
      "metadata": {},
      "source": [
        "### Tratamiento de nulos"
      ]
    },
    {
      "cell_type": "markdown",
      "metadata": {},
      "source": [
        "Dado que existe una cantidad significativa de ceros, y considerando que \n",
        "representan una variable no medida, los paso a NaN para que no sean considerados \n",
        "en los promedios y otros calculos"
      ]
    },
    {
      "cell_type": "code",
      "execution_count": 381,
      "metadata": {},
      "outputs": [],
      "source": [
        "# Asumo que los valores nulos de `caracteristicas` no fueron medidos y los convierto a NaN\n",
        "for caract in caracteristicas:\n",
        "    datos_raw[caract].replace([0, 0.0], np.NaN, inplace=True)    \n"
      ]
    },
    {
      "cell_type": "markdown",
      "metadata": {},
      "source": [
        "Se decide avanzar eliminando las filas con datos faltantes"
      ]
    },
    {
      "cell_type": "code",
      "execution_count": 382,
      "metadata": {},
      "outputs": [
        {
          "name": "stdout",
          "output_type": "stream",
          "text": [
            "Cantidad de registros incluyendo NaN: 768\n",
            "Cantidad de registros sin incluir NaN: 392\n"
          ]
        }
      ],
      "source": [
        "# Se prueba eliminando todas las filas que contengan algun NaN\n",
        "datos_sin_nan = datos_raw.dropna(subset=caracteristicas).reset_index()\n",
        "print(f\"Cantidad de registros incluyendo NaN: {datos_raw['Pregnancies'].count()}\")\n",
        "print(f\"Cantidad de registros sin incluir NaN: {datos_sin_nan['Pregnancies'].count()}\")"
      ]
    },
    {
      "cell_type": "markdown",
      "metadata": {},
      "source": [
        "### Categorización de características"
      ]
    },
    {
      "cell_type": "markdown",
      "metadata": {},
      "source": [
        "#### Criterios usados"
      ]
    },
    {
      "cell_type": "markdown",
      "metadata": {},
      "source": [
        "Se generaran las categorías según dos criterios y luego se evaluará sus resultados.\n",
        "\n",
        "1. Según ***media***: se generan 3 intervalos en función de la media +- la desviación estandar. La media se toma sólo de los casos de personas no diabéticas (`casos_negativos`), para que las etiquetas representen los valores de gente sana. Los intervalos configuran las categorías 0, 1 y 2 que representarían valores \"bajo\", \"medio\" y \"alto\".\n",
        "\n",
        "2. Según ***cuantiles***: se generan `CANTIDAD_DE_INTERVALOS` cuantiles en función de mantener balanceada la cantidad de muestras.\n",
        "\n",
        "Es de esperar que el criterio según cuantiles tenga mejor rendimiento ya que manteniendo balanceadas las muestras, se evita el sesgo hacia las clases dominantes."
      ]
    },
    {
      "cell_type": "markdown",
      "metadata": {},
      "source": [
        "#### Separación de datasets"
      ]
    },
    {
      "cell_type": "code",
      "execution_count": 383,
      "metadata": {},
      "outputs": [],
      "source": [
        "# Voy a categorizar en funcion de los casos sin diabetes (casos negativos)\n",
        "casos_negativos = datos_sin_nan.sort_values(by='Outcome')\n",
        "cantidad_casos_negativos = casos_negativos['Outcome'].value_counts(sort=False,ascending=True)[0]\n",
        "casos_negativos = casos_negativos[:cantidad_casos_negativos]\n",
        "\n",
        "datos_segun_media = datos_sin_nan.copy()\n",
        "datos_segun_cuantiles = datos_sin_nan.copy()"
      ]
    },
    {
      "cell_type": "markdown",
      "metadata": {},
      "source": [
        "#### Categorización de `Age`"
      ]
    },
    {
      "cell_type": "markdown",
      "metadata": {},
      "source": [
        "La edad se categoriza según la recomendación del enunciado"
      ]
    },
    {
      "cell_type": "code",
      "execution_count": 384,
      "metadata": {
        "id": "lZMF0HXy0AOJ"
      },
      "outputs": [],
      "source": [
        "# Pre-procesamiento de datos. Categorizacion de 'Age'\n",
        "def mapearEdades(edad):\n",
        "    if (edad >= 0 and edad <= 11): return \"0\" # 'niño'\n",
        "    elif (edad >= 12 and edad <= 18): return \"1\" # 'adolescente'\n",
        "    elif (edad >= 19 and edad <= 25): return \"2\" # 'joven'\n",
        "    elif (edad >= 26 and edad <= 59): return \"3\" # 'adulto'\n",
        "    elif (edad >= 60 and edad <= 70): return \"4\" # 'mayor'\n",
        "    \n",
        "datos_segun_media['Age'] = datos_segun_media['Age'].apply(mapearEdades)\n",
        "datos_segun_cuantiles['Age'] = datos_segun_cuantiles['Age'].apply(mapearEdades)\n"
      ]
    },
    {
      "cell_type": "markdown",
      "metadata": {},
      "source": [
        "#### Categorización de `Glucose`, `BloodPressure`, `SkinThickness`, `BMI`, `DiabetesPedig...`, `Insulin`"
      ]
    },
    {
      "cell_type": "markdown",
      "metadata": {},
      "source": [
        "##### Segun media"
      ]
    },
    {
      "cell_type": "code",
      "execution_count": 385,
      "metadata": {},
      "outputs": [
        {
          "name": "stdout",
          "output_type": "stream",
          "text": [
            "intervalos: [56.0, 86.78916457351355, 136.0734308463338, 197.0]\n",
            "intervalos: [24.0, 57.076624226048935, 80.862307071661, 106.0]\n",
            "intervalos: [7.0, 16.81777379332741, 37.68604300056572, 60.0]\n",
            "intervalos: [15.0, 28.22878515166022, 233.4811385124619, 744.0]\n",
            "intervalos: [18.2, 24.955792588603, 38.54573412895425, 57.3]\n",
            "intervalos: [0.085, 0.1729282343344145, 0.771407643528181, 2.329]\n"
          ]
        }
      ],
      "source": [
        "# Categorizo el resto de las caracteristicas segun el descriptor de la gente sana\n",
        "intervalos_medias = {}\n",
        "for caract in caracteristicas:\n",
        "    descriptor = casos_negativos[caract].describe()\n",
        "    # print(descriptor)\n",
        "    intervalos = [\n",
        "        descriptor['min'], \n",
        "        descriptor['mean'] - descriptor['std'], \n",
        "        descriptor['mean'] + descriptor['std'], \n",
        "        descriptor['max']\n",
        "        ]\n",
        "    print(f'intervalos: {intervalos}')\n",
        "    etiquetas = [0, 1, 2]\n",
        "    intervalos_medias[caract] = intervalos\n",
        "    \n",
        "    datos_segun_media[caract] = pd.cut(datos_segun_media[caract], bins=intervalos, labels=etiquetas)\n",
        "    \n"
      ]
    },
    {
      "cell_type": "markdown",
      "metadata": {},
      "source": [
        "##### Segun cuantiles"
      ]
    },
    {
      "cell_type": "code",
      "execution_count": 386,
      "metadata": {},
      "outputs": [],
      "source": [
        "\n",
        "CANTIDAD_CATEGORIAS = 3\n",
        "etiquetas = [cat for cat in range(CANTIDAD_CATEGORIAS)]\n",
        "intervalos_cuantiles = {}\n",
        "\n",
        "for caract in caracteristicas:\n",
        "    # print(caract)\n",
        "    datos_segun_cuantiles[caract], intervalos_q = pd.qcut(\n",
        "        x=datos_segun_cuantiles[caract], \n",
        "        q=CANTIDAD_CATEGORIAS, \n",
        "        labels=etiquetas, \n",
        "        retbins=True,\n",
        "    )\n",
        "    intervalos_cuantiles[caract] = intervalos_q\n",
        "    # print(intervalos_q.shape())"
      ]
    },
    {
      "cell_type": "markdown",
      "metadata": {},
      "source": [
        "## Modelado y evaluación"
      ]
    },
    {
      "cell_type": "markdown",
      "metadata": {},
      "source": [
        "### Splitting de datos"
      ]
    },
    {
      "cell_type": "code",
      "execution_count": 387,
      "metadata": {},
      "outputs": [],
      "source": [
        "from sklearn.model_selection import train_test_split\n",
        "PORCENTAJE_TESTEO = 0.3\n",
        "\n",
        "caracteristicas_entrada = [\n",
        "    # 'Pregnancies', \n",
        "    'Glucose',\n",
        "    'BloodPressure', \n",
        "    'SkinThickness', \n",
        "    'BMI', \n",
        "    'DiabetesPedigreeFunction', \n",
        "    'Insulin',\n",
        "    'Age']\n",
        "caracteristicas_objetivo = 'Outcome'\n",
        "\n",
        "X_train, X_test, y_train, y_test = train_test_split(\n",
        "    datos_segun_media[caracteristicas_entrada],\n",
        "    datos_segun_media[caracteristicas_objetivo],\n",
        "    test_size = PORCENTAJE_TESTEO\n",
        "    )\n",
        "\n",
        "X_segun_cuantiles_train, X_segun_cuantiles_test, y_segun_cuantiles_train, y_segun_cuantiles_test = train_test_split(\n",
        "    datos_segun_cuantiles[caracteristicas_entrada],\n",
        "    datos_segun_cuantiles[caracteristicas_objetivo],\n",
        "    test_size = PORCENTAJE_TESTEO\n",
        "    )\n"
      ]
    },
    {
      "cell_type": "code",
      "execution_count": 388,
      "metadata": {},
      "outputs": [],
      "source": [
        "# print(datos_segun_cuantiles)\n",
        "# df = pd.isna(datos_segun_media['Glucose'])\n",
        "# print(df.where(df == True).count())"
      ]
    },
    {
      "cell_type": "markdown",
      "metadata": {},
      "source": [
        "### Configuración y entrenamiento del modelo"
      ]
    },
    {
      "cell_type": "code",
      "execution_count": 389,
      "metadata": {},
      "outputs": [],
      "source": [
        "from unittest import mock\n",
        "from sklearn import tree\n",
        "\n",
        "PROFUNDIDAD_ARBOL = 4\n",
        "CRITERIO_CLASIFICADOR = 'entropy'\n",
        "\n",
        "arbol_segun_media = tree.DecisionTreeClassifier(criterion=CRITERIO_CLASIFICADOR, max_depth=PROFUNDIDAD_ARBOL)\n",
        "arbol_segun_cuantiles = tree.DecisionTreeClassifier(criterion=CRITERIO_CLASIFICADOR, max_depth=PROFUNDIDAD_ARBOL)\n",
        "\n",
        "with mock.patch(\"sklearn.utils.validation._assert_all_finite\"):\n",
        "    arbol_segun_media.fit(X=X_train, y=y_train)\n",
        "    arbol_segun_cuantiles.fit(X=X_segun_cuantiles_train, y=y_segun_cuantiles_train)\n",
        "    \n",
        "# La idea del mock.patch sirve para omitir la validacón de NaN, ya que tengo valores NaN. Leer Referencia 4\n",
        "    "
      ]
    },
    {
      "cell_type": "markdown",
      "metadata": {},
      "source": [
        "### Evaluación del modelo"
      ]
    },
    {
      "cell_type": "code",
      "execution_count": 390,
      "metadata": {},
      "outputs": [],
      "source": [
        "from sklearn.metrics import confusion_matrix, ConfusionMatrixDisplay\n",
        "from matplotlib import pyplot as plt\n",
        "\n",
        "# Analizar modelo\n",
        "predicciones_segun_media = []\n",
        "predicciones_segun_cuantiles = []\n",
        "\n",
        "with mock.patch(\"sklearn.utils.validation._assert_all_finite\"):\n",
        "    predicciones_segun_media = arbol_segun_media.predict(X=X_test)\n",
        "    predicciones_segun_cuantiles = arbol_segun_cuantiles.predict(X=X_segun_cuantiles_test)\n",
        "\n",
        "matriz_confusion_segun_media = confusion_matrix(y_true=y_test, y_pred=predicciones_segun_media)\n",
        "matriz_confusion_segun_cuantiles = confusion_matrix(y_true=y_segun_cuantiles_test, y_pred=predicciones_segun_cuantiles)\n"
      ]
    },
    {
      "cell_type": "markdown",
      "metadata": {},
      "source": [
        "#### Visualización de resultados"
      ]
    },
    {
      "cell_type": "code",
      "execution_count": 391,
      "metadata": {},
      "outputs": [
        {
          "data": {
            "image/png": "[encoded data removed]",
            "text/plain": [
              "<Figure size 432x288 with 2 Axes>"
            ]
          },
          "metadata": {
            "needs_background": "light"
          },
          "output_type": "display_data"
        },
        {
          "data": {
            "image/png": "[encoded data removed]",
            "text/plain": [
              "<Figure size 432x288 with 2 Axes>"
            ]
          },
          "metadata": {
            "needs_background": "light"
          },
          "output_type": "display_data"
        }
      ],
      "source": [
        "widget_matriz_confusion_segun_media = ConfusionMatrixDisplay(\n",
        "    confusion_matrix=matriz_confusion_segun_media,\n",
        "    display_labels=arbol_segun_media.classes_\n",
        "    )\n",
        "widget_matriz_confusion_segun_media.plot()\n",
        "\n",
        "widget_matriz_confusion_segun_cuantiles = ConfusionMatrixDisplay(\n",
        "    confusion_matrix=matriz_confusion_segun_cuantiles,\n",
        "    display_labels=arbol_segun_cuantiles.classes_\n",
        "    )\n",
        "widget_matriz_confusion_segun_cuantiles.plot()\n",
        "\n",
        "plt.show()"
      ]
    },
    {
      "cell_type": "code",
      "execution_count": 392,
      "metadata": {},
      "outputs": [],
      "source": [
        "from matplotlib import image as pltimg\n",
        "from matplotlib import pyplot as plt\n",
        "import pydotplus\n",
        "from datetime import datetime\n",
        "\n",
        "def generarTimestamp():\n",
        "    timestamp = datetime.now().strftime(\"%Y%m%d_%H%M%S\")\n",
        "    return timestamp\n",
        "\n",
        "def generarRutaSalida(criterio, timestamp):\n",
        "        filename=f'output\\ejercicio1-segun_{criterio}_{timestamp}'\n",
        "        return filename\n",
        "\n",
        "def exportarAImagen(arbol, criterio, timestamp):\n",
        "    def exportarIntervalos(criterio, ruta_salida):\n",
        "        ruta = f'{ruta_salida}.txt'\n",
        "        with open(ruta, 'x') as file:\n",
        "            if (criterio == 'media'):\n",
        "                file.write(str(intervalos_medias))\n",
        "            elif (criterio == 'cuantiles'):\n",
        "                file.write(str(intervalos_cuantiles))\n",
        "        \n",
        "    ruta_sin_extension = generarRutaSalida(criterio, timestamp)\n",
        "    exportarIntervalos(criterio, ruta_sin_extension)\n",
        "    data = tree.export_graphviz(arbol, feature_names=caracteristicas_entrada,out_file=None)\n",
        "    graph = pydotplus.graph_from_dot_data(data)\n",
        "    graph.write_png(f'{ruta_sin_extension}.png')\n",
        "    \n",
        "    return f'{ruta_sin_extension}.png'"
      ]
    },
    {
      "cell_type": "code",
      "execution_count": 393,
      "metadata": {},
      "outputs": [
        {
          "data": {
            "image/png": "[encoded data removed]",
            "text/plain": [
              "<Figure size 432x288 with 1 Axes>"
            ]
          },
          "metadata": {
            "needs_background": "light"
          },
          "output_type": "display_data"
        }
      ],
      "source": [
        "tiempo = generarTimestamp()\n",
        "ruta_img_segun_media = exportarAImagen(arbol_segun_media, 'media', tiempo)\n",
        "ruta_img_segun_cuantiles = exportarAImagen(arbol_segun_cuantiles, 'cuantiles', tiempo)\n",
        "\n",
        "# img_media = pltimg.imread(ruta_img_segun_media)\n",
        "# imgplot = plt.imshow(img_media)\n",
        "\n",
        "img_cuantiles = pltimg.imread(ruta_img_segun_cuantiles)\n",
        "imgplot_cuantiles = plt.imshow(img_cuantiles)\n",
        "plt.show()"
      ]
    },
    {
      "cell_type": "markdown",
      "metadata": {},
      "source": [
        "## Referencias\n",
        "\n",
        "1. <https://scikit-learn.org/stable/modules/tree.html>\n",
        "\n",
        "2. <https://pandas.pydata.org/docs/user_guide/index.html>\n",
        "\n",
        "3. <https://www.markdownguide.org/basic-syntax/>\n",
        "\n",
        "4. <https://stackoverflow.com/a/70881977>"
      ]
    }
  ],
  "metadata": {
    "colab": {
      "collapsed_sections": [],
      "name": "ejemplo_arbol_decision.ipynb",
      "provenance": []
    },
    "kernelspec": {
      "display_name": "Python 3",
      "name": "python3"
    },
    "language_info": {
      "codemirror_mode": {
        "name": "ipython",
        "version": 3
      },
      "file_extension": ".py",
      "mimetype": "text/x-python",
      "name": "python",
      "nbconvert_exporter": "python",
      "pygments_lexer": "ipython3",
      "version": "3.9.6"
    }
  },
  "nbformat": 4,
  "nbformat_minor": 0
}
